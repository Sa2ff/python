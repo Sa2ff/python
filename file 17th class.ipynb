{
 "cells": [
  {
   "cell_type": "code",
   "execution_count": null,
   "id": "2bf59a14",
   "metadata": {},
   "outputs": [],
   "source": [
    "#file=open (<file_name>','<mode>)\n",
    "#file.close()"
   ]
  },
  {
   "cell_type": "code",
   "execution_count": null,
   "id": "65fd8b73",
   "metadata": {},
   "outputs": [],
   "source": [
    "#mode\n",
    "# read->x\n",
    "# creat->x\n",
    "#write->\n",
    "#oppend->\n"
   ]
  },
  {
   "cell_type": "code",
   "execution_count": 1,
   "id": "7f4e9a79",
   "metadata": {},
   "outputs": [],
   "source": [
    "file=open('data.txt','x')\n",
    "file.close()"
   ]
  },
  {
   "cell_type": "code",
   "execution_count": 7,
   "id": "eb90eb0f",
   "metadata": {},
   "outputs": [
    {
     "name": "stdout",
     "output_type": "stream",
     "text": [
      "1.hello world\n",
      "2.hello world\n",
      "3.hello world\n",
      "4.hello world\n",
      "5.hello world\n",
      "6.hello world\n",
      "7.hello world\n"
     ]
    }
   ],
   "source": [
    "file=open('data.txt','r')\n",
    "d=file.read()\n",
    "print(d)\n",
    "file.close()"
   ]
  },
  {
   "cell_type": "code",
   "execution_count": 8,
   "id": "aa68f03b",
   "metadata": {},
   "outputs": [
    {
     "data": {
      "text/plain": [
       "['1.hello world',\n",
       " '2.hello world',\n",
       " '3.hello world',\n",
       " '4.hello world',\n",
       " '5.hello world',\n",
       " '6.hello world',\n",
       " '7.hello world']"
      ]
     },
     "execution_count": 8,
     "metadata": {},
     "output_type": "execute_result"
    }
   ],
   "source": [
    "new_data=d.split('\\n')\n",
    "new_data"
   ]
  },
  {
   "cell_type": "code",
   "execution_count": 10,
   "id": "73740548",
   "metadata": {},
   "outputs": [
    {
     "data": {
      "text/plain": [
       "'2.hello world'"
      ]
     },
     "execution_count": 10,
     "metadata": {},
     "output_type": "execute_result"
    }
   ],
   "source": [
    "new_data[1]"
   ]
  },
  {
   "cell_type": "code",
   "execution_count": 11,
   "id": "46901f50",
   "metadata": {},
   "outputs": [],
   "source": [
    "file=open('data1,txt','w')\n",
    "file.write('hello k cha')\n",
    "file.close()"
   ]
  },
  {
   "cell_type": "code",
   "execution_count": 12,
   "id": "698cfa31",
   "metadata": {},
   "outputs": [
    {
     "name": "stdout",
     "output_type": "stream",
     "text": [
      "enter n=2\n",
      "enter name=saku\n",
      "enter phnone=876768578\n",
      "enter prize=234\n",
      "enter qty=2\n",
      "enter name=maya'\n",
      "enter phnone=9875678\n",
      "enter prize=234\n",
      "enter qty=2\n",
      "saku 876768578 234.0 2.0 468.0\n",
      "maya' 9875678 234.0 2.0 468.0\n",
      "\n",
      "936.0\n"
     ]
    }
   ],
   "source": [
    "bill =''\n",
    "all_total=0\n",
    "n =int(input(\"enter n=\"))\n",
    "for i in range(n):\n",
    "    name=input(\"enter name=\")\n",
    "    phone=input(\"enter phnone=\")\n",
    "    prize=float(input(\"enter prize=\"))\n",
    "    qty=float(input(\"enter qty=\"))\n",
    "    total=prize*qty\n",
    "    bill= bill+f\"{name} {phone} {prize} {qty} {total}\\n\"\n",
    "    all_total=all_total+total\n",
    "print(bill)\n",
    "print(all_total)\n",
    "file=open('bill.txt','w')\n",
    "file.write(bill)\n",
    "file.close()\n",
    "    \n",
    "    "
   ]
  },
  {
   "cell_type": "code",
   "execution_count": 15,
   "id": "03fa18fb",
   "metadata": {},
   "outputs": [
    {
     "name": "stdout",
     "output_type": "stream",
     "text": [
      "enter n=2\n",
      "enter name=jashmi\n",
      "enter phnone=876367\n",
      "enter prize=234\n",
      "enter qty=2\n",
      "enter name=laxmi\n",
      "enter phnone=97654\n",
      "enter prize=32\n",
      "enter qty=2\n",
      "jashmi 876367 234.0 2.0 468.0\n",
      "laxmi 97654 32.0 2.0 64.0\n",
      "\n",
      "532.0\n"
     ]
    }
   ],
   "source": [
    "#write in txt file\n",
    "bill =''\n",
    "all_total=0\n",
    "n =int(input(\"enter n=\"))\n",
    "for i in range(n):\n",
    "    name=input(\"enter name=\")\n",
    "    phone=input(\"enter phnone=\")\n",
    "    prize=float(input(\"enter prize=\"))\n",
    "    qty=float(input(\"enter qty=\"))\n",
    "    total=prize*qty\n",
    "    bill= bill+f\"{name} {phone} {prize} {qty} {total}\\n\"\n",
    "    all_total=all_total+total\n",
    "print(bill)\n",
    "print(all_total)\n",
    "file=open('bill.txt','a')\n",
    "file.write(bill)\n",
    "file.close()\n",
    "    \n",
    "    "
   ]
  },
  {
   "cell_type": "code",
   "execution_count": 1,
   "id": "b442170e",
   "metadata": {},
   "outputs": [
    {
     "name": "stdout",
     "output_type": "stream",
     "text": [
      "enter n=2\n",
      "enter name=maya\n",
      "enter phone=87534567\n",
      "enter prize=335\n",
      "enter qty=2\n",
      "enter name=sama\n",
      "enter phone=98765\n",
      "enter prize=345\n",
      "enter qty=4\n",
      "maya,87534567,335.0,2.0,670.0\n",
      "sama,98765,345.0,4.0,1380.0\n",
      "\n",
      "2050.0\n"
     ]
    }
   ],
   "source": [
    "#on csv file \n",
    "bill =''\n",
    "all_total=0\n",
    "n =int(input(\"enter n=\"))\n",
    "for i in range(n):\n",
    "    name=input(\"enter name=\")\n",
    "    phone=input(\"enter phone=\")\n",
    "    prize=float(input(\"enter prize=\"))\n",
    "    qty=float(input(\"enter qty=\"))\n",
    "    total=prize*qty\n",
    "    bill= bill+f\"{name},{phone},{prize},{qty},{total}\\n\"\n",
    "    all_total=all_total+total\n",
    "print(bill)\n",
    "print(all_total)\n",
    "file=open('bill.csv','w')\n",
    "file.write('Name,Phone,Prize,Qty,Total\\n')\n",
    "file.write(bill)\n",
    "file.close()\n",
    "    \n",
    "    "
   ]
  },
  {
   "cell_type": "code",
   "execution_count": 2,
   "id": "ea33dfec",
   "metadata": {},
   "outputs": [
    {
     "data": {
      "text/plain": [
       "'C:\\\\Users\\\\DELL'"
      ]
     },
     "execution_count": 2,
     "metadata": {},
     "output_type": "execute_result"
    }
   ],
   "source": [
    "pwd"
   ]
  },
  {
   "cell_type": "code",
   "execution_count": 4,
   "id": "f0e4bae4",
   "metadata": {},
   "outputs": [
    {
     "name": "stdout",
     "output_type": "stream",
     "text": [
      "['Name,Phone,Prize,Qty,Total', 'maya,87534567,335.0,2.0,670.0', 'sama,98765,345.0,4.0,1380.0', '']\n"
     ]
    }
   ],
   "source": [
    "file=open('bill.csv','r')\n",
    "d=file.read()\n",
    "data=d.split('\\n')\n",
    "print(data)\n",
    "file.close()"
   ]
  },
  {
   "cell_type": "code",
   "execution_count": 14,
   "id": "0310310f",
   "metadata": {},
   "outputs": [
    {
     "data": {
      "text/plain": [
       "[['Name', 'Phone', 'Prize', 'Qty', 'Total'],\n",
       " ['maya', '87534567', '335.0', '2.0', '670.0'],\n",
       " ['sama', '98765', '345.0', '4.0', '1380.0']]"
      ]
     },
     "execution_count": 14,
     "metadata": {},
     "output_type": "execute_result"
    }
   ],
   "source": [
    "new_data=[]\n",
    "for i in data[:-1]:\n",
    "    new_data.append(i.split(','))\n",
    "new_data\n",
    "    "
   ]
  },
  {
   "cell_type": "code",
   "execution_count": 17,
   "id": "7d1105b0",
   "metadata": {},
   "outputs": [
    {
     "name": "stdout",
     "output_type": "stream",
     "text": [
      "[['Name', 'Phone', 'Prize', 'Qty', 'Total'], ['maya', '87534567', '335.0', '2.0', '670.0'], ['sama', '98765', '345.0', '4.0', '1380.0']]\n"
     ]
    }
   ],
   "source": [
    "new_data=[]\n",
    "for i in data[:-1]:\n",
    "    new_data.append(i.split(','))\n",
    "new_data\n",
    "\n",
    "    "
   ]
  },
  {
   "cell_type": "code",
   "execution_count": null,
   "id": "249507e0",
   "metadata": {},
   "outputs": [],
   "source": []
  }
 ],
 "metadata": {
  "kernelspec": {
   "display_name": "Python 3 (ipykernel)",
   "language": "python",
   "name": "python3"
  },
  "language_info": {
   "codemirror_mode": {
    "name": "ipython",
    "version": 3
   },
   "file_extension": ".py",
   "mimetype": "text/x-python",
   "name": "python",
   "nbconvert_exporter": "python",
   "pygments_lexer": "ipython3",
   "version": "3.11.5"
  }
 },
 "nbformat": 4,
 "nbformat_minor": 5
}
