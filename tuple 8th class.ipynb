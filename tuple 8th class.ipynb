{
 "cells": [
  {
   "cell_type": "code",
   "execution_count": null,
   "id": "a6513f74",
   "metadata": {},
   "outputs": [],
   "source": [
    "#list\n",
    "#ordered\n",
    "#multiple and duplicate data\n",
    "#imutable"
   ]
  },
  {
   "cell_type": "code",
   "execution_count": 1,
   "id": "e46703af",
   "metadata": {},
   "outputs": [
    {
     "name": "stdout",
     "output_type": "stream",
     "text": [
      "<class 'tuple'>\n",
      "<class 'tuple'>\n"
     ]
    }
   ],
   "source": [
    "t=(1,2,3,4,5,6)\n",
    "k=(\"apple\",\"ball\",\"cat\")\n",
    "print(type(t))\n",
    "print(type(k))"
   ]
  },
  {
   "cell_type": "code",
   "execution_count": 3,
   "id": "76f49a4c",
   "metadata": {},
   "outputs": [
    {
     "name": "stdout",
     "output_type": "stream",
     "text": [
      "apple\n",
      "1\n"
     ]
    }
   ],
   "source": [
    "print(k[0])\n",
    "print(t[0])\n"
   ]
  },
  {
   "cell_type": "code",
   "execution_count": 4,
   "id": "595b36ef",
   "metadata": {},
   "outputs": [
    {
     "name": "stdout",
     "output_type": "stream",
     "text": [
      "(1, 2, 3, 4, 5, 6, 7, 8)\n"
     ]
    }
   ],
   "source": [
    "t=(1,2,3,4)\n",
    "j=(5,6,7,8)\n",
    "print(t+j)"
   ]
  },
  {
   "cell_type": "code",
   "execution_count": 7,
   "id": "bc33ddd4",
   "metadata": {},
   "outputs": [
    {
     "name": "stdout",
     "output_type": "stream",
     "text": [
      "(1, 2, 3, 4, 1, 2, 3, 4)\n",
      "(5, 6, 7, 8, 5, 6, 7, 8)\n"
     ]
    }
   ],
   "source": [
    "t=(1,2,3,4)\n",
    "j=(5,6,7,8)\n",
    "print(t*2)\n",
    "print(j*2)"
   ]
  },
  {
   "cell_type": "code",
   "execution_count": null,
   "id": "fb42f1b6",
   "metadata": {},
   "outputs": [],
   "source": [
    "#sum() min() max()\n",
    "#no append() insert() extend()\n",
    "# no del remove() pop()\n",
    "# no update\n",
    "# no sort() reverse()"
   ]
  },
  {
   "cell_type": "code",
   "execution_count": 10,
   "id": "181e33f0",
   "metadata": {},
   "outputs": [
    {
     "name": "stdout",
     "output_type": "stream",
     "text": [
      "<class 'tuple'>\n"
     ]
    }
   ],
   "source": [
    "t=(\"1\",)\n",
    "print(type(t))"
   ]
  },
  {
   "cell_type": "code",
   "execution_count": 11,
   "id": "2c884248",
   "metadata": {},
   "outputs": [
    {
     "data": {
      "text/plain": [
       "(1, 2, 3, 4, 5)"
      ]
     },
     "execution_count": 11,
     "metadata": {},
     "output_type": "execute_result"
    }
   ],
   "source": [
    "a=1,2,3,4,5\n",
    "a"
   ]
  },
  {
   "cell_type": "code",
   "execution_count": null,
   "id": "9447cc5f",
   "metadata": {},
   "outputs": [],
   "source": [
    "\n",
    "#tu=()\\\n",
    "#t=tuple()\n",
    "n=int(input(\"enter n=\"))\n",
    "for i in range(n):\n",
    "    x=int(input(\"enter x=\"))\n",
    "    t=t+(x,)\n",
    "    t"
   ]
  },
  {
   "cell_type": "code",
   "execution_count": null,
   "id": "ab6d4f81",
   "metadata": {},
   "outputs": [],
   "source": [
    "#wap to creat the following tuple insdie tuple\n",
    "#data=[[\"shyam\",\"16\",\"lalitpur\"],\n",
    "#      [\"hari\",\"17\",\"ktm\"],\n",
    " #     [\"sheela\",\"55\",\"butwal\"]]"
   ]
  },
  {
   "cell_type": "code",
   "execution_count": 1,
   "id": "cab2400e",
   "metadata": {},
   "outputs": [
    {
     "data": {
      "text/plain": [
       "[1, 2, 3]"
      ]
     },
     "execution_count": 1,
     "metadata": {},
     "output_type": "execute_result"
    }
   ],
   "source": [
    "t=(1,2,3)\n",
    "l=list(t)\n",
    "l"
   ]
  },
  {
   "cell_type": "code",
   "execution_count": 4,
   "id": "67cc9c70",
   "metadata": {},
   "outputs": [
    {
     "data": {
      "text/plain": [
       "('ram', 30, 'ktm')"
      ]
     },
     "execution_count": 4,
     "metadata": {},
     "output_type": "execute_result"
    }
   ],
   "source": [
    "t=(\"ram\",33,\"ktm\")\n",
    "l=list(t)\n",
    "l[1]=30\n",
    "t=tuple(l)\n",
    "t"
   ]
  },
  {
   "cell_type": "code",
   "execution_count": null,
   "id": "cabfc289",
   "metadata": {},
   "outputs": [],
   "source": []
  }
 ],
 "metadata": {
  "kernelspec": {
   "display_name": "Python 3 (ipykernel)",
   "language": "python",
   "name": "python3"
  },
  "language_info": {
   "codemirror_mode": {
    "name": "ipython",
    "version": 3
   },
   "file_extension": ".py",
   "mimetype": "text/x-python",
   "name": "python",
   "nbconvert_exporter": "python",
   "pygments_lexer": "ipython3",
   "version": "3.11.5"
  }
 },
 "nbformat": 4,
 "nbformat_minor": 5
}
