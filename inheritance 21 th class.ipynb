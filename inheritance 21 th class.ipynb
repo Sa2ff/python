{
 "cells": [
  {
   "cell_type": "code",
   "execution_count": null,
   "id": "dd01cce9",
   "metadata": {},
   "outputs": [],
   "source": [
    "#class a:\n",
    "#pass\n",
    "#classb(a)\n",
    "#pass\n",
    "#obj=b()"
   ]
  },
  {
   "cell_type": "code",
   "execution_count": 9,
   "id": "da864599",
   "metadata": {},
   "outputs": [
    {
     "name": "stdout",
     "output_type": "stream",
     "text": [
      "ram 23 ktm\n",
      " hello world i am ram.i am fromktm. i am 23\n"
     ]
    }
   ],
   "source": [
    "class Data:                                     #parent class\n",
    "    def __init__(self,name,age,add):\n",
    "        self.name=name\n",
    "        self.age=age\n",
    "        self.add=add\n",
    "    def data(self):\n",
    "            print(self.name,self.age,self.add)\n",
    "class Info(Data):                                     #child class\n",
    "    def info(self):\n",
    "             print(f\" hello world i am {self.name}.i am from{self.add}. i am {self.age}\")\n",
    "obj=Info(\"ram\",23,\"ktm\")\n",
    "obj.data()\n",
    "obj.info()"
   ]
  },
  {
   "cell_type": "code",
   "execution_count": null,
   "id": "9d4e4963",
   "metadata": {},
   "outputs": [],
   "source": [
    "#multilevel inheritance \n",
    "class A:\n",
    "    pass\n",
    "class B(A):\n",
    "    pass\n",
    "class C(B):\n",
    "    pass\n",
    "obj=c()\n",
    "    "
   ]
  },
  {
   "cell_type": "code",
   "execution_count": 19,
   "id": "aa986cb8",
   "metadata": {},
   "outputs": [
    {
     "name": "stdout",
     "output_type": "stream",
     "text": [
      "23\n",
      " hello world i am ram.i am fromktm. i am 23\n"
     ]
    }
   ],
   "source": [
    "class Address:\n",
    "    def __init__(self,add):\n",
    "        self.add=add\n",
    "    def my_add(self):\n",
    "            print(self.add)\n",
    "class Data:                                     #parent class\n",
    "    def __init__(self,age):\n",
    "        self.age=age\n",
    "    def data(self):\n",
    "            print(self.age)\n",
    "class Info(Address,Data):                                     #child class\n",
    "    def __init__(self,name,age,add):\n",
    "        \n",
    "        self.name=name\n",
    "        Data.__init__(self,age)\n",
    "        Address.__init__(self,add)\n",
    "    def info(self):\n",
    "            print(f\" hello world i am {self.name}.i am from{self.add}. i am {self.age}\")\n",
    "\n",
    "            \n",
    "            \n",
    "obj=Info(\"ram\",23,\"ktm\")\n",
    "obj.data()\n",
    "obj.info()"
   ]
  },
  {
   "cell_type": "code",
   "execution_count": 2,
   "id": "018b867d",
   "metadata": {},
   "outputs": [
    {
     "name": "stdout",
     "output_type": "stream",
     "text": [
      "ram 23 ktm\n",
      " hello world i am ram.i am fromktm. i am 23\n",
      "ram\n",
      "23\n",
      "ktm\n"
     ]
    }
   ],
   "source": [
    "class Data:                                     #parent class\n",
    "    def __init__(self,name,age,add):\n",
    "        self.name=name\n",
    "        self.age=age\n",
    "        self.add=add\n",
    "    def data(self):\n",
    "            print(self.name,self.age,self.add)\n",
    "class Info(Data):                                     #child class\n",
    "    def info(self):\n",
    "             print(f\" hello world i am {self.name}.i am from{self.add}. i am {self.age}\")\n",
    "obj=Info(\"ram\",23,\"ktm\")\n",
    "obj.data()\n",
    "obj.info()\n",
    "print(obj.name)\n",
    "print(obj.age)\n",
    "print(obj.add)"
   ]
  },
  {
   "cell_type": "code",
   "execution_count": 5,
   "id": "cbd53ff2",
   "metadata": {},
   "outputs": [
    {
     "name": "stdout",
     "output_type": "stream",
     "text": [
      "ram 23 ktm\n",
      " hello world i am ram.i am fromktm. i am 23\n",
      "ram\n",
      "23\n",
      "ktm\n"
     ]
    }
   ],
   "source": [
    "#public \n",
    "class Data:                                     #parent class\n",
    "    def __init__(self,name,age,add):\n",
    "        self.name=name\n",
    "        self.age=age\n",
    "        self.add=add\n",
    "        \n",
    "        obj=Info(\"ram\",23,\"ktm\")\n",
    "obj.data()\n",
    "obj.info()\n",
    "print(obj.name)\n",
    "print(obj.age)\n",
    "print(obj.add)"
   ]
  },
  {
   "cell_type": "code",
   "execution_count": 5,
   "id": "b03f3ddd",
   "metadata": {},
   "outputs": [
    {
     "name": "stdout",
     "output_type": "stream",
     "text": [
      "ram 12 ktm\n",
      " hello world i am ram.i am fromktm. i am 12\n"
     ]
    },
    {
     "ename": "AttributeError",
     "evalue": "'Info' object has no attribute 'name'",
     "output_type": "error",
     "traceback": [
      "\u001b[1;31m---------------------------------------------------------------------------\u001b[0m",
      "\u001b[1;31mAttributeError\u001b[0m                            Traceback (most recent call last)",
      "Cell \u001b[1;32mIn[5], line 12\u001b[0m\n\u001b[0;32m      9\u001b[0m obj\u001b[38;5;241m.\u001b[39mdata()\n\u001b[0;32m     10\u001b[0m obj\u001b[38;5;241m.\u001b[39minfo()\n\u001b[1;32m---> 12\u001b[0m \u001b[38;5;28mprint\u001b[39m(obj\u001b[38;5;241m.\u001b[39mname)\n\u001b[0;32m     13\u001b[0m \u001b[38;5;28mprint\u001b[39m(obj\u001b[38;5;241m.\u001b[39mage)\n\u001b[0;32m     14\u001b[0m \u001b[38;5;28mprint\u001b[39m(obj\u001b[38;5;241m.\u001b[39madd)\n",
      "\u001b[1;31mAttributeError\u001b[0m: 'Info' object has no attribute 'name'"
     ]
    }
   ],
   "source": [
    "#protected\n",
    "class Data:                                     #parent class\n",
    "    def __init__(self,name,age,add):\n",
    "        self._name=name\n",
    "        self._age=age\n",
    "        self._add=add\n",
    "        \n",
    "        obj=Info(\"ram\",23,\"ktm\")\n",
    "obj.data()\n",
    "obj.info()\n",
    "\n",
    "print(obj.name)\n",
    "print(obj.age)\n",
    "print(obj.add)"
   ]
  },
  {
   "cell_type": "code",
   "execution_count": 4,
   "id": "86af5392",
   "metadata": {},
   "outputs": [
    {
     "name": "stdout",
     "output_type": "stream",
     "text": [
      "ram 12 ktm\n",
      " hello world i am ram.i am fromktm. i am 12\n",
      "ram\n",
      "12\n",
      "ktm\n"
     ]
    }
   ],
   "source": [
    "#protected\n",
    "class Data:                                     #parent class\n",
    "    def __init__(self):\n",
    "        self._name='ram'\n",
    "        self._age=12\n",
    "        self._add='ktm'\n",
    "    def data(self):\n",
    "            print(self._name,self._age,self._add)\n",
    "class Info(Data):                                     #child class\n",
    "    def info(self):\n",
    "             print(f\" hello world i am {self._name}.i am from{self._add}. i am {self._age}\")\n",
    "\n",
    "obj=Info()\n",
    "obj.data()\n",
    "obj.info()\n",
    "print(obj._name)\n",
    "print(obj._age)\n",
    "print(obj._add)"
   ]
  },
  {
   "cell_type": "code",
   "execution_count": 11,
   "id": "95858c93",
   "metadata": {},
   "outputs": [
    {
     "name": "stdout",
     "output_type": "stream",
     "text": [
      "ram 12 ktm\n",
      " hello world i am ram. i am 12\n",
      "ram\n",
      "12\n"
     ]
    }
   ],
   "source": [
    "#private\n",
    "class Data:                                     #parent class\n",
    "    def __init__(self):   #public\n",
    "        self.name='ram'\n",
    "        self._age=12       #protected\n",
    "        self.__add='ktm'   #private\n",
    "    def data(self):\n",
    "            print(self.name,self._age,self.__add)\n",
    "class Info(Data):                                     #child class\n",
    "    def info(self):\n",
    "             print(f\" hello world i am {self.name}. i am {self._age}\")\n",
    "\n",
    "obj=Info()\n",
    "obj.data()\n",
    "obj.info()\n",
    "print(obj.name)\n",
    "print(obj._age)"
   ]
  },
  {
   "cell_type": "code",
   "execution_count": null,
   "id": "1007ca10",
   "metadata": {},
   "outputs": [],
   "source": []
  }
 ],
 "metadata": {
  "kernelspec": {
   "display_name": "Python 3 (ipykernel)",
   "language": "python",
   "name": "python3"
  },
  "language_info": {
   "codemirror_mode": {
    "name": "ipython",
    "version": 3
   },
   "file_extension": ".py",
   "mimetype": "text/x-python",
   "name": "python",
   "nbconvert_exporter": "python",
   "pygments_lexer": "ipython3",
   "version": "3.11.5"
  }
 },
 "nbformat": 4,
 "nbformat_minor": 5
}
