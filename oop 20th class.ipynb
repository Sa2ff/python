{
 "cells": [
  {
   "cell_type": "code",
   "execution_count": 5,
   "id": "3b63eac6",
   "metadata": {},
   "outputs": [],
   "source": [
    "#class <class_name>:\n",
    " #   <method>\n",
    "    #<class_name>() #name always start with capital letter "
   ]
  },
  {
   "cell_type": "code",
   "execution_count": 28,
   "id": "02720d03",
   "metadata": {},
   "outputs": [
    {
     "name": "stdout",
     "output_type": "stream",
     "text": [
      "hello world\n"
     ]
    }
   ],
   "source": [
    "class Hello:                #class\n",
    "        def hello(self):        #method\n",
    "            print(\"hello world\")\n",
    "obj=Hello()  \n",
    "obj.hello()            #object"
   ]
  },
  {
   "cell_type": "code",
   "execution_count": 29,
   "id": "0bf85019",
   "metadata": {},
   "outputs": [
    {
     "ename": "AttributeError",
     "evalue": "'Hello' object has no attribute 'hello'",
     "output_type": "error",
     "traceback": [
      "\u001b[1;31m---------------------------------------------------------------------------\u001b[0m",
      "\u001b[1;31mAttributeError\u001b[0m                            Traceback (most recent call last)",
      "Cell \u001b[1;32mIn[29], line 6\u001b[0m\n\u001b[0;32m      4\u001b[0m             \u001b[38;5;28mprint\u001b[39m(\u001b[38;5;124m\"\u001b[39m\u001b[38;5;124mHello World\u001b[39m\u001b[38;5;124m\"\u001b[39m)\n\u001b[0;32m      5\u001b[0m obj\u001b[38;5;241m=\u001b[39mHello()  \n\u001b[1;32m----> 6\u001b[0m obj\u001b[38;5;241m.\u001b[39mhello()\n",
      "\u001b[1;31mAttributeError\u001b[0m: 'Hello' object has no attribute 'hello'"
     ]
    }
   ],
   "source": [
    "class Hello: \n",
    "        @staticmethod\n",
    "        def Hello(self):        \n",
    "            print(\"Hello World\")\n",
    "obj=Hello()  \n",
    "obj.hello()            "
   ]
  },
  {
   "cell_type": "code",
   "execution_count": 10,
   "id": "94f9679b",
   "metadata": {},
   "outputs": [
    {
     "name": "stdout",
     "output_type": "stream",
     "text": [
      "50\n",
      "240\n"
     ]
    }
   ],
   "source": [
    "class cal:\n",
    "    def area(self,l,b):\n",
    "        a=l*b\n",
    "        print(a)\n",
    "    def volume(self,l,b,h):\n",
    "            v=l*b*h\n",
    "            print(v)\n",
    "        \n",
    "        \n",
    "obj=cal()\n",
    "obj.area(10,5)\n",
    "obj.volume(12,4,5)"
   ]
  },
  {
   "cell_type": "code",
   "execution_count": 26,
   "id": "c3d41ebe",
   "metadata": {},
   "outputs": [
    {
     "name": "stdout",
     "output_type": "stream",
     "text": [
      "50\n",
      "100\n"
     ]
    }
   ],
   "source": [
    "class Cal:\n",
    "    def __init__(self,l,b,h):\n",
    "        self.l=l\n",
    "        self.b=b\n",
    "        self.h=h\n",
    "        \n",
    "    def area(self):\n",
    "        a=self.l*self.b\n",
    "        print(a)\n",
    "    def volume(self):\n",
    "            v=self.l*self.b*self.h\n",
    "            print(v)\n",
    "        \n",
    "        \n",
    "obj=Cal(10,5,2)\n",
    "obj.area()\n",
    "obj.volume()"
   ]
  },
  {
   "cell_type": "code",
   "execution_count": 31,
   "id": "829a49c3",
   "metadata": {},
   "outputs": [
    {
     "name": "stdout",
     "output_type": "stream",
     "text": [
      "50\n",
      "100\n"
     ]
    }
   ],
   "source": [
    "class Area:\n",
    "    def __init__(self,l,b):\n",
    "        self.l=l\n",
    "        self.b=b\n",
    "        \n",
    "        \n",
    "    def area(self):\n",
    "        a=self.l*self.b\n",
    "        print(a)\n",
    "        \n",
    "class Volume:\n",
    "    def __init__(self,l,b,h):\n",
    "        self.l=l\n",
    "        self.b=b\n",
    "        self.h=h\n",
    "        \n",
    "    def volume(self):\n",
    "            v=self.l*self.b*self.h\n",
    "            print(v)\n",
    "            \n",
    "obj1=Area(10,5)\n",
    "obj2=Volume(10,5,2)\n",
    "obj1.area()\n",
    "obj2.volume()       "
   ]
  },
  {
   "cell_type": "code",
   "execution_count": 35,
   "id": "63fefd30",
   "metadata": {},
   "outputs": [
    {
     "name": "stdout",
     "output_type": "stream",
     "text": [
      "hello world i am ram. i am fromktm.i am 44\n",
      "ktm\n"
     ]
    }
   ],
   "source": [
    "#only reuturn sting value \n",
    "\n",
    "class Info:\n",
    "    def __init__(self,name,age,add):\n",
    "        self.name=name\n",
    "        self.age=age\n",
    "        self.add=add\n",
    "    def info(self):\n",
    "        print(f\"hello world i am {self.name}. i am from{self.add}.i am {self.age}\")\n",
    "    def __str__(self):\n",
    "            return self.add\n",
    "        \n",
    "obj=Info(\"ram\",44,\"ktm\")\n",
    "obj.info()\n",
    "print(obj)"
   ]
  },
  {
   "cell_type": "code",
   "execution_count": 40,
   "id": "db299d08",
   "metadata": {},
   "outputs": [
    {
     "name": "stdout",
     "output_type": "stream",
     "text": [
      "hello world i am ram. i am fromktm.i am 44\n",
      "<__main__.Info object at 0x000001C1B6596D50>\n"
     ]
    }
   ],
   "source": [
    "class Info:\n",
    "    def __init__(self,name,age,add):\n",
    "        self.name=name\n",
    "        self.age=age\n",
    "        self.add=add\n",
    "    def info(self):\n",
    "        print(f\"hello world i am {self.name}. i am from{self.add}.i am {self.age}\")\n",
    "    \n",
    "        \n",
    "obj=Info(\"ram\",44,\"ktm\")\n",
    "obj.info()\n",
    "print(obj)"
   ]
  },
  {
   "cell_type": "code",
   "execution_count": null,
   "id": "2c918a3c",
   "metadata": {},
   "outputs": [],
   "source": []
  }
 ],
 "metadata": {
  "kernelspec": {
   "display_name": "Python 3 (ipykernel)",
   "language": "python",
   "name": "python3"
  },
  "language_info": {
   "codemirror_mode": {
    "name": "ipython",
    "version": 3
   },
   "file_extension": ".py",
   "mimetype": "text/x-python",
   "name": "python",
   "nbconvert_exporter": "python",
   "pygments_lexer": "ipython3",
   "version": "3.11.5"
  }
 },
 "nbformat": 4,
 "nbformat_minor": 5
}
