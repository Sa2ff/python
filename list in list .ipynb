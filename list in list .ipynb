{
 "cells": [
  {
   "cell_type": "code",
   "execution_count": 1,
   "id": "0a1a15c0",
   "metadata": {},
   "outputs": [
    {
     "name": "stdout",
     "output_type": "stream",
     "text": [
      "[[1, 2, 3], [4, 5, 6], [7, 8, 9]]\n"
     ]
    }
   ],
   "source": [
    "#list inside list\n",
    "l=[[1,2,3],\n",
    "   [4,5,6],\n",
    "   [7,8,9]]\n",
    "print(l)"
   ]
  },
  {
   "cell_type": "code",
   "execution_count": 2,
   "id": "ddc39b45",
   "metadata": {},
   "outputs": [
    {
     "name": "stdout",
     "output_type": "stream",
     "text": [
      "[['shyam', '16', 'lalitpur'], ['hari', '17', 'ktm']]\n"
     ]
    }
   ],
   "source": [
    "data=[[\"shyam\",\"16\",\"lalitpur\"],\n",
    "      [\"hari\",\"17\",\"ktm\"]]\n",
    "print(data)"
   ]
  },
  {
   "cell_type": "code",
   "execution_count": 1,
   "id": "864f9270",
   "metadata": {},
   "outputs": [
    {
     "name": "stdout",
     "output_type": "stream",
     "text": [
      "enter n=2\n",
      "enter name=maya\n",
      "enter age=23\n",
      "enter add=ktm\n",
      "enter name=sita\n",
      "enter age=33\n",
      "enter add=ktm\n",
      "[['maya', '23', 'ktm'], ['sita', '33', 'ktm']]\n"
     ]
    }
   ],
   "source": [
    "info=[]\n",
    "n=int(input(\"enter n=\"))\n",
    "for i in range(n):\n",
    "    name=input(\"enter name=\")\n",
    "    age=input(\"enter age=\")\n",
    "    add=input(\"enter add=\")\n",
    "    info.append([name,age,add])\n",
    "print(info)"
   ]
  },
  {
   "cell_type": "code",
   "execution_count": 4,
   "id": "d6ed6ff4",
   "metadata": {},
   "outputs": [
    {
     "name": "stdout",
     "output_type": "stream",
     "text": [
      "enter name= hari\n"
     ]
    }
   ],
   "source": [
    "data=[[\"shyam\",\"16\",\"lalitpur\"],\n",
    "      [\"hari\",\"17\",\"ktm\"]],\n",
    "name = input(\"enter name= \")\n",
    "for i in data:\n",
    "    if name in i:\n",
    "        print(i)"
   ]
  },
  {
   "cell_type": "code",
   "execution_count": null,
   "id": "61c9f882",
   "metadata": {},
   "outputs": [],
   "source": [
    "bill =''\n",
    "all_total=0\n",
    "n =int(input(\"enter n=\"))\n",
    "for i in range(n):\n",
    "    name=input(\"enter name=\")\n",
    "    phone=input(\"enter phnone=\")\n",
    "    prize=float(input(\"enter prize=\"))\n",
    "    qty=float(input(\"enter qty=\"))\n",
    "    total=prize*qty\n",
    "    bill,append([i,name,phone,prizw,qty,total])\n",
    "    all_total=all_total+total\n",
    "print(bill)\n",
    "print(all_total)\n",
    "    \n",
    "    "
   ]
  },
  {
   "cell_type": "code",
   "execution_count": 5,
   "id": "af626d0c",
   "metadata": {},
   "outputs": [
    {
     "name": "stdout",
     "output_type": "stream",
     "text": [
      "enter add= ktm\n"
     ]
    }
   ],
   "source": [
    "data=[[\"shyam\",\"16\",\"lalitpur\"],\n",
    "      [\"hari\",\"17\",\"ktm\"]],\n",
    "add = input(\"enter add= \")\n",
    "for i in data:\n",
    "    if name in i:\n",
    "        print(i)"
   ]
  },
  {
   "cell_type": "code",
   "execution_count": 3,
   "id": "33ccaac1",
   "metadata": {},
   "outputs": [
    {
     "data": {
      "text/plain": [
       "[['sita', '16', 'lalitpur'], ['hari', '17', 'ktm'], ['sheela', '55', 'butwal']]"
      ]
     },
     "execution_count": 3,
     "metadata": {},
     "output_type": "execute_result"
    }
   ],
   "source": [
    "data=[[\"shyam\",\"16\",\"lalitpur\"],\n",
    "      [\"hari\",\"17\",\"ktm\"],\n",
    "      [\"sheela\",\"55\",\"butwal\"]]\n",
    "data[0][0] = \"sita\"\n",
    "data"
   ]
  },
  {
   "cell_type": "code",
   "execution_count": null,
   "id": "1b1b2bda",
   "metadata": {},
   "outputs": [],
   "source": [
    "#wap to creat a matrix\n",
    "#r=?\n",
    "#c=?\n",
    "#x=?"
   ]
  },
  {
   "cell_type": "code",
   "execution_count": 5,
   "id": "e252f0e5",
   "metadata": {},
   "outputs": [
    {
     "name": "stdout",
     "output_type": "stream",
     "text": [
      "enter r=2\n",
      "enter c=2\n",
      "enter x=32\n",
      "[[32]]\n",
      "enter x=234\n",
      "[[32, 234], [32, 234]]\n",
      "enter x=22\n",
      "[[32, 234], [32, 234], [22]]\n",
      "enter x=323\n",
      "[[32, 234], [32, 234], [22, 323], [22, 323]]\n"
     ]
    }
   ],
   "source": [
    "mat=[]\n",
    "r=int(input(\"enter r=\"))\n",
    "c=int(input(\"enter c=\"))\n",
    "for i in range (r):\n",
    "    z=[]\n",
    "    for i in range(c):\n",
    "        x=int(input(\"enter x=\"))\n",
    "        z.append(x)\n",
    "        mat.append(z)\n",
    "        print(mat)\n",
    "            \n",
    "            \n",
    "            "
   ]
  },
  {
   "cell_type": "code",
   "execution_count": null,
   "id": "d52d6191",
   "metadata": {},
   "outputs": [],
   "source": []
  }
 ],
 "metadata": {
  "kernelspec": {
   "display_name": "Python 3 (ipykernel)",
   "language": "python",
   "name": "python3"
  },
  "language_info": {
   "codemirror_mode": {
    "name": "ipython",
    "version": 3
   },
   "file_extension": ".py",
   "mimetype": "text/x-python",
   "name": "python",
   "nbconvert_exporter": "python",
   "pygments_lexer": "ipython3",
   "version": "3.11.5"
  }
 },
 "nbformat": 4,
 "nbformat_minor": 5
}
