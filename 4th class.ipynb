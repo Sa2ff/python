{
 "cells": [
  {
   "cell_type": "code",
   "execution_count": 1,
   "id": "234d380b",
   "metadata": {},
   "outputs": [],
   "source": [
    "#nested if else statement \n"
   ]
  },
  {
   "cell_type": "code",
   "execution_count": 2,
   "id": "6b7c3855",
   "metadata": {},
   "outputs": [],
   "source": [
    "#if <condition>:\n",
    "#    if <condition>:\n",
    "#        <operation>\n",
    "#       else:\n",
    "#           <operation>\n",
    "            "
   ]
  },
  {
   "cell_type": "code",
   "execution_count": 1,
   "id": "01790772",
   "metadata": {},
   "outputs": [
    {
     "name": "stdout",
     "output_type": "stream",
     "text": [
      "enter a=88\n",
      "enter b=99\n",
      "enter + - * /*\n",
      "8712\n"
     ]
    }
   ],
   "source": [
    "a =int(input(\"enter a=\"))\n",
    "b =int(input(\"enter b=\"))\n",
    "o =input(\"enter + - * /\")\n",
    "if o =='+':\n",
    "    print(a+b)\n",
    "elif o =='-':\n",
    "    print(a-b)\n",
    "elif o =='*':\n",
    "    print(a*b)\n",
    "elif o =='/':\n",
    "    print(a/b)\n",
    "    \n",
    "\n",
    "\n",
    "    "
   ]
  },
  {
   "cell_type": "code",
   "execution_count": 15,
   "id": "bfc4174d",
   "metadata": {},
   "outputs": [],
   "source": [
    "#a=?\n",
    "#even or odd\n",
    "#+ve or -ve\n"
   ]
  },
  {
   "cell_type": "code",
   "execution_count": null,
   "id": "5111a84a",
   "metadata": {},
   "outputs": [],
   "source": [
    "a=int(input(\"enter a=\"))\n",
    "if a>=0:\n",
    "    if a%2==0:\n",
    "        print(\"a is +ve and even\")\n",
    "    else:\n",
    "            print(\"a is +ve and odd\")\n",
    "else:\n",
    "    if a%2==0:\n",
    "        print(\"a is -ve and even\")\n",
    "    else:\n",
    "            print(\" a is -ve and odd\")"
   ]
  },
  {
   "cell_type": "code",
   "execution_count": null,
   "id": "65f4d3dd",
   "metadata": {},
   "outputs": [],
   "source": []
  },
  {
   "cell_type": "code",
   "execution_count": 19,
   "id": "4d81355d",
   "metadata": {},
   "outputs": [
    {
     "name": "stdout",
     "output_type": "stream",
     "text": [
      "True\n",
      "False\n",
      "False\n",
      "False\n"
     ]
    }
   ],
   "source": [
    "print(True and True)\n",
    "print(False and False)\n",
    "print(False and True)\n",
    "print(True and False )"
   ]
  },
  {
   "cell_type": "code",
   "execution_count": 20,
   "id": "b931a2ab",
   "metadata": {},
   "outputs": [
    {
     "name": "stdout",
     "output_type": "stream",
     "text": [
      "True\n",
      "False\n",
      "True\n",
      "True\n"
     ]
    }
   ],
   "source": [
    "print(True or True)\n",
    "print(False or False)\n",
    "print(False or True)\n",
    "print(True or False )"
   ]
  },
  {
   "cell_type": "code",
   "execution_count": 18,
   "id": "39ccb80b",
   "metadata": {},
   "outputs": [
    {
     "ename": "SyntaxError",
     "evalue": "invalid syntax (905878904.py, line 1)",
     "output_type": "error",
     "traceback": [
      "\u001b[1;36m  Cell \u001b[1;32mIn[18], line 1\u001b[1;36m\u001b[0m\n\u001b[1;33m    if <condition>:\u001b[0m\n\u001b[1;37m       ^\u001b[0m\n\u001b[1;31mSyntaxError\u001b[0m\u001b[1;31m:\u001b[0m invalid syntax\n"
     ]
    }
   ],
   "source": [
    "if <condition>:\n",
    "    if<condition>:\n",
    "    <operation>\n",
    "    elif<condition>:\n",
    "        <operation>\n",
    "        if<condition>:\n",
    "            <opeartion>\n",
    "            else:\n",
    "                <operation>\n",
    "                else:\n",
    "                    <operation>\n",
    "                    if<condition>:\n",
    "                        <operation>\n",
    "                    "
   ]
  },
  {
   "cell_type": "code",
   "execution_count": 1,
   "id": "25d8378e",
   "metadata": {},
   "outputs": [
    {
     "name": "stdout",
     "output_type": "stream",
     "text": [
      "enter r=0\n",
      "enter g=1\n",
      "enter y=2\n",
      "open the red light\n",
      "open the green light\n",
      "opne the yellow light\n"
     ]
    }
   ],
   "source": [
    "r=int(input(\"enter r=\"))\n",
    "g=int(input(\"enter g=\"))\n",
    "y=int(input(\"enter y=\"))\n",
    "if r==0:\n",
    "    print(\"open the red light\")\n",
    "    \n",
    "else:\n",
    "    print(\"stop the green and yellow light\")\n",
    "if g==1:\n",
    "    print(\"open the green light\")\n",
    "else:\n",
    "     print(\"close the red and yellow light\")\n",
    "if y==2:\n",
    "     print(\"opne the yellow light\")\n",
    "else:\n",
    "    print(\"close the red and green light\")"
   ]
  },
  {
   "cell_type": "code",
   "execution_count": null,
   "id": "9604e24a",
   "metadata": {},
   "outputs": [],
   "source": []
  },
  {
   "cell_type": "code",
   "execution_count": null,
   "id": "13ec36c1",
   "metadata": {},
   "outputs": [],
   "source": []
  },
  {
   "cell_type": "code",
   "execution_count": null,
   "id": "f1d4294d",
   "metadata": {},
   "outputs": [],
   "source": []
  }
 ],
 "metadata": {
  "kernelspec": {
   "display_name": "Python 3 (ipykernel)",
   "language": "python",
   "name": "python3"
  },
  "language_info": {
   "codemirror_mode": {
    "name": "ipython",
    "version": 3
   },
   "file_extension": ".py",
   "mimetype": "text/x-python",
   "name": "python",
   "nbconvert_exporter": "python",
   "pygments_lexer": "ipython3",
   "version": "3.11.5"
  }
 },
 "nbformat": 4,
 "nbformat_minor": 5
}
