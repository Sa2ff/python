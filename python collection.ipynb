{
 "cells": [
  {
   "cell_type": "code",
   "execution_count": null,
   "id": "6c7e7a08",
   "metadata": {},
   "outputs": [],
   "source": [
    "# list\n",
    "# tuple\n",
    "# dict\n",
    "# set"
   ]
  },
  {
   "cell_type": "code",
   "execution_count": null,
   "id": "f16536d6",
   "metadata": {},
   "outputs": [],
   "source": [
    "# list\n",
    "# -Indexing\n",
    "# -Ordered\n",
    "# -Multiple and duplicate data\n",
    "# -Mutable"
   ]
  },
  {
   "cell_type": "code",
   "execution_count": 1,
   "id": "414aceef",
   "metadata": {},
   "outputs": [
    {
     "name": "stdout",
     "output_type": "stream",
     "text": [
      "<class 'list'>\n",
      "<class 'list'>\n"
     ]
    }
   ],
   "source": [
    "a = [1,2,3,4,5,6,7,8]\n",
    "b = [\"Apple\",\"Ball\",\"Cat\",\"Dog\",\"Fish\",\"Apple\"]\n",
    "print(type(a))\n",
    "print(type(b))"
   ]
  },
  {
   "cell_type": "code",
   "execution_count": 2,
   "id": "3c064e2e",
   "metadata": {},
   "outputs": [
    {
     "name": "stdout",
     "output_type": "stream",
     "text": [
      "Apple\n",
      "['Apple', 'Ball', 'Cat', 'Dog', 'Fish']\n",
      "['Apple', 'Cat', 'Fish']\n"
     ]
    }
   ],
   "source": [
    "b = [\"Apple\",\"Ball\",\"Cat\",\"Dog\",\"Fish\",\"Apple\"]\n",
    "print(b[0])\n",
    "print(b[0:5])\n",
    "print(b[0:5:2])"
   ]
  },
  {
   "cell_type": "code",
   "execution_count": 3,
   "id": "3245331f",
   "metadata": {},
   "outputs": [
    {
     "name": "stdout",
     "output_type": "stream",
     "text": [
      "[1, 2, 3, 4, 5, 6, 7, 8]\n"
     ]
    }
   ],
   "source": [
    "a = [1,2,3,4]\n",
    "b = [5,6,7,8]\n",
    "c = a+b\n",
    "print(c)"
   ]
  },
  {
   "cell_type": "code",
   "execution_count": null,
   "id": "8d55e8f6",
   "metadata": {},
   "outputs": [],
   "source": [
    "# append() insert() extend()\n",
    "l = []\n",
    "# l = list()\n",
    "n = int(input('Enter n = '))\n",
    "for i in range(n):\n",
    "    x = int(input(\"Enter x = \"))\n",
    "    l.append(x)\n",
    "    \n",
    "print(l)"
   ]
  },
  {
   "cell_type": "code",
   "execution_count": 1,
   "id": "e68eafca",
   "metadata": {},
   "outputs": [
    {
     "ename": "NameError",
     "evalue": "name 'l' is not defined",
     "output_type": "error",
     "traceback": [
      "\u001b[1;31m---------------------------------------------------------------------------\u001b[0m",
      "\u001b[1;31mNameError\u001b[0m                                 Traceback (most recent call last)",
      "Cell \u001b[1;32mIn[1], line 1\u001b[0m\n\u001b[1;32m----> 1\u001b[0m \u001b[38;5;28mprint\u001b[39m(\u001b[38;5;124m\"\u001b[39m\u001b[38;5;124mThe max value = \u001b[39m\u001b[38;5;124m\"\u001b[39m,\u001b[38;5;28mmax\u001b[39m(l))\n\u001b[0;32m      2\u001b[0m \u001b[38;5;28mprint\u001b[39m(\u001b[38;5;124m\"\u001b[39m\u001b[38;5;124mThe min value = \u001b[39m\u001b[38;5;124m\"\u001b[39m,\u001b[38;5;28mmin\u001b[39m(l))\n\u001b[0;32m      3\u001b[0m \u001b[38;5;28mprint\u001b[39m(\u001b[38;5;124m\"\u001b[39m\u001b[38;5;124mThe sum = \u001b[39m\u001b[38;5;124m\"\u001b[39m,\u001b[38;5;28msum\u001b[39m(l))\n",
      "\u001b[1;31mNameError\u001b[0m: name 'l' is not defined"
     ]
    }
   ],
   "source": [
    "print(\"The max value = \",max(l))\n",
    "print(\"The min value = \",min(l))\n",
    "print(\"The sum = \",sum(l))\n",
    "l.sort()\n",
    "print(l)\n",
    "l.reverse(l)\n",
    "print(l)"
   ]
  },
  {
   "cell_type": "code",
   "execution_count": 2,
   "id": "ae3c594f",
   "metadata": {},
   "outputs": [
    {
     "name": "stdout",
     "output_type": "stream",
     "text": [
      "['Ant', 'Apple', 'Ball', 'Cat']\n"
     ]
    }
   ],
   "source": [
    "a = [\"Ball\",\"Cat\",\"Apple\",\"Ant\"]\n",
    "a.sort()\n",
    "print(a)\n"
   ]
  },
  {
   "cell_type": "code",
   "execution_count": 3,
   "id": "30f6720b",
   "metadata": {},
   "outputs": [
    {
     "data": {
      "text/plain": [
       "['Ball', 'cat', 'Cat', 'Apple', 'Ant']"
      ]
     },
     "execution_count": 3,
     "metadata": {},
     "output_type": "execute_result"
    }
   ],
   "source": [
    "a = [\"Ball\",\"Cat\",\"Apple\",\"Ant\"]\n",
    "a.insert(1,\"cat\")\n",
    "a"
   ]
  },
  {
   "cell_type": "code",
   "execution_count": 4,
   "id": "43fea193",
   "metadata": {},
   "outputs": [
    {
     "name": "stdout",
     "output_type": "stream",
     "text": [
      "['Ball', 'Cat', 'Apple', 'Ant', 1, 2, 3]\n"
     ]
    }
   ],
   "source": [
    "a = [\"Ball\",\"Cat\",\"Apple\",\"Ant\"]\n",
    "b = [1,2,3]\n",
    "a.extend(b)\n",
    "print(a)"
   ]
  },
  {
   "cell_type": "code",
   "execution_count": 5,
   "id": "1dbcb26a",
   "metadata": {},
   "outputs": [
    {
     "name": "stdout",
     "output_type": "stream",
     "text": [
      "['ball', 'Cat', 'Apple', 'Ant']\n"
     ]
    }
   ],
   "source": [
    "#update\n",
    "a = [\"Ball\",\"Cat\",\"Apple\",\"Ant\"]\n",
    "a[0] = \"ball\"\n",
    "print(a)"
   ]
  },
  {
   "cell_type": "code",
   "execution_count": 6,
   "id": "de57d76d",
   "metadata": {},
   "outputs": [
    {
     "name": "stdout",
     "output_type": "stream",
     "text": [
      "['ball', 'cat', 'Apple', 'Ant']\n"
     ]
    }
   ],
   "source": [
    "a = [\"Ball\",\"Cat\",\"Apple\",\"Ant\"]\n",
    "a[0:2] = [\"ball\",\"cat\"]\n",
    "print(a)"
   ]
  },
  {
   "cell_type": "code",
   "execution_count": 7,
   "id": "7b69f699",
   "metadata": {},
   "outputs": [
    {
     "name": "stdout",
     "output_type": "stream",
     "text": [
      "['Cat', 'Apple', 'Ant']\n"
     ]
    }
   ],
   "source": [
    "# del remove() pop()\n",
    "a = [\"Ball\",\"Cat\",\"Apple\",\"Ant\"]\n",
    "del a[0]\n",
    "print(a)"
   ]
  },
  {
   "cell_type": "code",
   "execution_count": 8,
   "id": "61c803ca",
   "metadata": {},
   "outputs": [
    {
     "name": "stdout",
     "output_type": "stream",
     "text": [
      "['Apple', 'Ant']\n"
     ]
    }
   ],
   "source": [
    "a = [\"Ball\",\"Cat\",\"Apple\",\"Ant\"]\n",
    "del a[0:2]\n",
    "print(a)"
   ]
  },
  {
   "cell_type": "code",
   "execution_count": 9,
   "id": "d596787b",
   "metadata": {},
   "outputs": [
    {
     "name": "stdout",
     "output_type": "stream",
     "text": [
      "['Cat', 'Apple', 'Ant']\n"
     ]
    }
   ],
   "source": [
    "a = [\"Ball\",\"Cat\",\"Apple\",\"Ant\"]\n",
    "a.remove('Ball')\n",
    "print(a)"
   ]
  },
  {
   "cell_type": "code",
   "execution_count": 10,
   "id": "de9c89e5",
   "metadata": {},
   "outputs": [
    {
     "name": "stdout",
     "output_type": "stream",
     "text": [
      "['Cat', 'Apple', 'Ant']\n"
     ]
    }
   ],
   "source": [
    "a = [\"Ball\",\"Cat\",\"Apple\",\"Ant\",\"Ball\"]\n",
    "c = a.count(\"Ball\")\n",
    "for i in range(c):\n",
    "    a.remove('Ball')\n",
    "print(a)"
   ]
  },
  {
   "cell_type": "code",
   "execution_count": 18,
   "id": "677cf6f4",
   "metadata": {},
   "outputs": [
    {
     "name": "stdout",
     "output_type": "stream",
     "text": [
      "Apple\n"
     ]
    }
   ],
   "source": [
    "a = [\"Cat\",\"Apple\",\"Ant\",\"Ball\"]\n",
    "b = a.pop(1)\n",
    "print(b)"
   ]
  },
  {
   "cell_type": "code",
   "execution_count": 12,
   "id": "9bd268af",
   "metadata": {},
   "outputs": [
    {
     "name": "stdout",
     "output_type": "stream",
     "text": [
      "There is apple\n",
      "1\n"
     ]
    }
   ],
   "source": [
    "a = [\"Ball\",\"Cat\",\"Apple\",\"Ant\",\"Ball\"]\n",
    "if \"Apple\" in a:\n",
    "    print(\"There is apple\")\n",
    "    print(a.count(\"Apple\"))\n",
    "else:\n",
    "    print(\"There is no apple\")"
   ]
  },
  {
   "cell_type": "code",
   "execution_count": 13,
   "id": "c7dbb769",
   "metadata": {},
   "outputs": [
    {
     "name": "stdout",
     "output_type": "stream",
     "text": [
      "There is apple\n",
      "1\n"
     ]
    }
   ],
   "source": [
    "a = [\"Ball\",\"Cat\",\"Apple\",\"Ant\",\"Ball\"]\n",
    "if \"Apple\" not in a:\n",
    "    print(\"There is no apple\")\n",
    "else:\n",
    "    print(\"There is apple\")\n",
    "    print(a.count(\"Apple\"))\n",
    "    "
   ]
  },
  {
   "cell_type": "code",
   "execution_count": 14,
   "id": "ec3f583c",
   "metadata": {},
   "outputs": [
    {
     "name": "stdout",
     "output_type": "stream",
     "text": [
      "Ball\n",
      "Cat\n",
      "Apple\n",
      "Ant\n",
      "Ball\n"
     ]
    }
   ],
   "source": [
    "a = [\"Ball\",\"Cat\",\"Apple\",\"Ant\",\"Ball\"]\n",
    "for i in a:\n",
    "    print(i)"
   ]
  },
  {
   "cell_type": "code",
   "execution_count": 15,
   "id": "fcab9cd3",
   "metadata": {},
   "outputs": [
    {
     "name": "stdout",
     "output_type": "stream",
     "text": [
      "Ball\n",
      "Cat\n",
      "Apple\n",
      "Ant\n",
      "Ball\n"
     ]
    }
   ],
   "source": [
    "a = [\"Ball\",\"Cat\",\"Apple\",\"Ant\",\"Ball\"]\n",
    "l = len(a)\n",
    "for i in range(l):\n",
    "    print(a[i])"
   ]
  },
  {
   "cell_type": "code",
   "execution_count": 16,
   "id": "c2ed9f98",
   "metadata": {},
   "outputs": [
    {
     "name": "stdout",
     "output_type": "stream",
     "text": [
      "0\n",
      "4\n"
     ]
    }
   ],
   "source": [
    "a = [\"Ball\",\"Cat\",\"Apple\",\"Ant\",\"Ball\"]\n",
    "l = len(a)\n",
    "for i in range(l):\n",
    "    if a[i] == \"Ball\":\n",
    "        print(i)"
   ]
  },
  {
   "cell_type": "code",
   "execution_count": null,
   "id": "ac0f7dc6",
   "metadata": {},
   "outputs": [],
   "source": [
    "# list inside list"
   ]
  },
  {
   "cell_type": "code",
   "execution_count": 17,
   "id": "b64bcd6c",
   "metadata": {},
   "outputs": [
    {
     "name": "stdout",
     "output_type": "stream",
     "text": [
      "[[1, 2, 3], [4, 5, 6], [7, 8, 9]]\n"
     ]
    }
   ],
   "source": [
    "l = [[1,2,3],\n",
    "    [4,5,6],\n",
    "    [7,8,9]]\n",
    "\n",
    "print(l)"
   ]
  },
  {
   "cell_type": "code",
   "execution_count": 18,
   "id": "3866a9e8",
   "metadata": {},
   "outputs": [
    {
     "name": "stdout",
     "output_type": "stream",
     "text": [
      "[['Ram', 34, 'Kathmandu'], ['Shyam', 56, 'Lalitpur'], ['Hari', 23, 'Lalitpur']]\n"
     ]
    }
   ],
   "source": [
    "data = [['Ram',34,\"Kathmandu\"],\n",
    "       [\"Shyam\",56,\"Lalitpur\"],\n",
    "       [\"Hari\",23,\"Lalitpur\"]]\n",
    "print(data)"
   ]
  },
  {
   "cell_type": "code",
   "execution_count": null,
   "id": "716d7e74",
   "metadata": {},
   "outputs": [],
   "source": [
    "info = []\n",
    "n = int(input(\"Enter n = \"))\n",
    "for i in range(n):\n",
    "    name = input(\"Enter name = \")\n",
    "    age = int(input(\"Enter age = \"))\n",
    "    add = input(\"Enter add = \")\n",
    "    info.append([name,age,add])\n",
    "    \n",
    "print(info)"
   ]
  },
  {
   "cell_type": "code",
   "execution_count": null,
   "id": "c0b21653",
   "metadata": {},
   "outputs": [],
   "source": [
    "data = [['Ram', 89, 'Kathmandu'],\n",
    "        ['Shyam', 89, 'Bhaktapur'],\n",
    "        ['Hari', 34, 'Lalitpur']]\n",
    "\n",
    "name = input(\"Enter name = \")\n",
    "for i in data:\n",
    "    if name in i:\n",
    "        print(i)"
   ]
  },
  {
   "cell_type": "code",
   "execution_count": null,
   "id": "9fbd403f",
   "metadata": {},
   "outputs": [],
   "source": [
    "bill = []\n",
    "all_total = 0\n",
    "n = int(input(\"Enter n = \"))\n",
    "for i in range(n):\n",
    "    name = input(\"Enter name = \")\n",
    "    price = float(input(\"Enter price = \"))\n",
    "    qty = float(input(\"Enter qty = \"))\n",
    "    total = price * qty\n",
    "    bill.append([i,name,price,quantity,total])\n",
    "    all_total = all_total + total\n",
    "print(bill)\n",
    "print(all_total)"
   ]
  },
  {
   "cell_type": "code",
   "execution_count": null,
   "id": "93b70131",
   "metadata": {},
   "outputs": [],
   "source": [
    "# # WAP to create a matrix \n",
    "# r = ?\n",
    "# c = ?\n",
    "# x = ?\n",
    "# l = [[1,2,3],\n",
    "#     [4,5,6],\n",
    "#     [7,8,9]]\n"
   ]
  },
  {
   "cell_type": "code",
   "execution_count": null,
   "id": "1b7c799c",
   "metadata": {},
   "outputs": [],
   "source": [
    "mat = []\n",
    "r = int(input('Enter r = '))\n",
    "c = int(input(\"Enter c = \"))\n",
    "for i in range(r):\n",
    "    z = []\n",
    "    for j in range(c):\n",
    "        x = int(input(\"Enter x = \"))\n",
    "        z.append(x)\n",
    "    mat.append(z)\n",
    "    \n",
    "print(mat)"
   ]
  },
  {
   "cell_type": "code",
   "execution_count": 8,
   "id": "396622e9",
   "metadata": {},
   "outputs": [
    {
     "name": "stdout",
     "output_type": "stream",
     "text": [
      "[1, 2, 3, 4, 5, 6, 7, 8]\n",
      "['Apple', 'Apple', 'Ball', 'Cat', 'Dog', 'Fish']\n",
      "[8, 7, 6, 5, 4, 3, 2, 1]\n",
      "['Apple', 'Apple', 'Ball', 'Cat', 'Dog', 'Fish']\n"
     ]
    }
   ],
   "source": [
    "a = [1,2,3,4,5,6,7,8]\n",
    "b = [\"Apple\",\"Ball\",\"Cat\",\"Dog\",\"Fish\",\"Apple\"]\n",
    "a.sort()\n",
    "b.sort()\n",
    "print(a)\n",
    "print(b)\n",
    "a.reverse()\n",
    "b.reverse\n",
    "\n",
    "print(a)\n",
    "print(b)"
   ]
  },
  {
   "cell_type": "code",
   "execution_count": 10,
   "id": "e069d7e2",
   "metadata": {},
   "outputs": [
    {
     "name": "stdout",
     "output_type": "stream",
     "text": [
      "['Apple', 'cat', 'Ball', 'Cat', 'Dog', 'Fish', 'Apple']\n"
     ]
    }
   ],
   "source": [
    "#extend be the added the b into a \n",
    "a = [1,2,3,4,5,6,7,8]\n",
    "b = [\"Apple\",\"Ball\",\"Cat\",\"Dog\",\"Fish\",\"Apple\"]\n",
    "b.insert(1,\"cat\")\n",
    "print(b)"
   ]
  },
  {
   "cell_type": "code",
   "execution_count": 11,
   "id": "e4bc363b",
   "metadata": {},
   "outputs": [
    {
     "name": "stdout",
     "output_type": "stream",
     "text": [
      "[1, 2, 3, 4, 5, 6, 7, 8, ['Apple', 'Ball', 'Cat', 'Dog', 'Fish', 'Apple']]\n"
     ]
    }
   ],
   "source": [
    "a = [1,2,3,4,5,6,7,8]\n",
    "b = [\"Apple\",\"Ball\",\"Cat\",\"Dog\",\"Fish\",\"Apple\"]\n",
    "a.append(b)\n",
    "print(a)"
   ]
  },
  {
   "cell_type": "code",
   "execution_count": 17,
   "id": "4551343a",
   "metadata": {},
   "outputs": [
    {
     "name": "stdout",
     "output_type": "stream",
     "text": [
      "['Apple', 'Cat', 'Dog', 'Fish', 'Apple']\n"
     ]
    }
   ],
   "source": [
    "a = [1,2,3,4,5,6,7,8]\n",
    "b = [\"Apple\",\"Ball\",\"Cat\",\"Dog\",\"Fish\",\"Apple\"]\n",
    "b.remove('Ball')\n",
    "print(b)"
   ]
  },
  {
   "cell_type": "code",
   "execution_count": null,
   "id": "333e48d5",
   "metadata": {},
   "outputs": [],
   "source": []
  }
 ],
 "metadata": {
  "kernelspec": {
   "display_name": "Python 3 (ipykernel)",
   "language": "python",
   "name": "python3"
  },
  "language_info": {
   "codemirror_mode": {
    "name": "ipython",
    "version": 3
   },
   "file_extension": ".py",
   "mimetype": "text/x-python",
   "name": "python",
   "nbconvert_exporter": "python",
   "pygments_lexer": "ipython3",
   "version": "3.11.5"
  }
 },
 "nbformat": 4,
 "nbformat_minor": 5
}
