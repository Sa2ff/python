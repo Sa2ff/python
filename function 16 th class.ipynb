{
 "cells": [
  {
   "cell_type": "code",
   "execution_count": null,
   "id": "224d67d3",
   "metadata": {},
   "outputs": [],
   "source": [
    "#recursive function "
   ]
  },
  {
   "cell_type": "code",
   "execution_count": 5,
   "id": "e39ca443",
   "metadata": {},
   "outputs": [
    {
     "name": "stdout",
     "output_type": "stream",
     "text": [
      "hello world\n",
      "hello world\n"
     ]
    }
   ],
   "source": [
    "def hello():\n",
    "    print('hello world')\n",
    "hello()\n",
    "\n",
    "hello()"
   ]
  },
  {
   "cell_type": "code",
   "execution_count": 8,
   "id": "d11011cd",
   "metadata": {},
   "outputs": [
    {
     "name": "stdout",
     "output_type": "stream",
     "text": [
      "hello world\n",
      "enter y for more print=y\n",
      "hello world\n",
      "enter y for more print=y\n",
      "hello world\n",
      "enter y for more print=y\n",
      "hello world\n",
      "enter y for more print=y\n",
      "hello world\n",
      "enter y for more print=ererf\n"
     ]
    }
   ],
   "source": [
    "def hello():\n",
    "    print('hello world')\n",
    "    x=input('enter y for more print=')\n",
    "    if x=='y':\n",
    "        hello()\n",
    "\n",
    "hello()"
   ]
  },
  {
   "cell_type": "code",
   "execution_count": 12,
   "id": "165e49f9",
   "metadata": {},
   "outputs": [
    {
     "name": "stdout",
     "output_type": "stream",
     "text": [
      "enter x=5\n",
      "enter y for more entry=y\n",
      "enter x=54\n",
      "enter y for more entry=y\n",
      "enter x=54\n",
      "enter y for more entry=fg\n",
      "113\n"
     ]
    }
   ],
   "source": [
    "s=0\n",
    "def cal():\n",
    "    global s\n",
    "    x=int(input('enter x='))\n",
    "    s=s+x\n",
    "    z=input('enter y for more entry=')\n",
    "    if z=='y':\n",
    "        cal()\n",
    "        \n",
    "        \n",
    "cal()\n",
    "print(s)"
   ]
  },
  {
   "cell_type": "code",
   "execution_count": 14,
   "id": "09dbbb92",
   "metadata": {},
   "outputs": [
    {
     "name": "stdout",
     "output_type": "stream",
     "text": [
      "3.141592653589793\n",
      "2.718281828459045\n"
     ]
    }
   ],
   "source": [
    "#math function\n",
    "import math as m\n",
    "print(m.pi)\n",
    "print(m.e)"
   ]
  },
  {
   "cell_type": "code",
   "execution_count": 15,
   "id": "0596263b",
   "metadata": {},
   "outputs": [
    {
     "data": {
      "text/plain": [
       "1.0"
      ]
     },
     "execution_count": 15,
     "metadata": {},
     "output_type": "execute_result"
    }
   ],
   "source": [
    "m.sin(m.pi/2)"
   ]
  },
  {
   "cell_type": "code",
   "execution_count": 17,
   "id": "dff202ca",
   "metadata": {},
   "outputs": [
    {
     "name": "stdout",
     "output_type": "stream",
     "text": [
      "6.123233995736766e-17\n"
     ]
    }
   ],
   "source": [
    "print(m.cos(m.pi/2))"
   ]
  },
  {
   "cell_type": "code",
   "execution_count": 18,
   "id": "16a42d67",
   "metadata": {},
   "outputs": [
    {
     "name": "stdout",
     "output_type": "stream",
     "text": [
      "1.633123935319537e+16\n"
     ]
    }
   ],
   "source": [
    "print(m.tan(m.pi/2))"
   ]
  },
  {
   "cell_type": "code",
   "execution_count": 22,
   "id": "5b5e57ad",
   "metadata": {},
   "outputs": [
    {
     "name": "stdout",
     "output_type": "stream",
     "text": [
      "25\n"
     ]
    }
   ],
   "source": [
    "#lambda function\n",
    "#lambda <argument>:<operation>\n",
    "x=lambda a:a**2\n",
    "print(x(5))\n",
    "\n"
   ]
  },
  {
   "cell_type": "code",
   "execution_count": 23,
   "id": "dd018cb5",
   "metadata": {},
   "outputs": [
    {
     "name": "stdout",
     "output_type": "stream",
     "text": [
      "15\n"
     ]
    }
   ],
   "source": [
    "x=lambda l,b:l*b\n",
    "print(x(5,3))"
   ]
  },
  {
   "cell_type": "code",
   "execution_count": null,
   "id": "273d8ed0",
   "metadata": {},
   "outputs": [],
   "source": [
    "\n",
    "#filter() map()"
   ]
  },
  {
   "cell_type": "code",
   "execution_count": 24,
   "id": "0fa7ff9b",
   "metadata": {},
   "outputs": [
    {
     "data": {
      "text/plain": [
       "[2, 4, 6, 8, 10]"
      ]
     },
     "execution_count": 24,
     "metadata": {},
     "output_type": "execute_result"
    }
   ],
   "source": [
    "a=[1,2,3,4,5,6,7,8,9,10]\n",
    "list(filter(lambda x:x%2==0,a))\n"
   ]
  },
  {
   "cell_type": "code",
   "execution_count": 30,
   "id": "396a20e6",
   "metadata": {},
   "outputs": [
    {
     "data": {
      "text/plain": [
       "[]"
      ]
     },
     "execution_count": 30,
     "metadata": {},
     "output_type": "execute_result"
    }
   ],
   "source": [
    "a=['apple','ball','cat','dog','appi','ajjji']\n",
    "b=list(filter(lambda x:x[0]=='a', a))\n",
    "b"
   ]
  },
  {
   "cell_type": "code",
   "execution_count": 31,
   "id": "a3c8c316",
   "metadata": {},
   "outputs": [
    {
     "data": {
      "text/plain": [
       "['APPLE', 'BALL', 'CAT', 'DOG', 'APPI', 'AJJJI']"
      ]
     },
     "execution_count": 31,
     "metadata": {},
     "output_type": "execute_result"
    }
   ],
   "source": [
    "a=['apple','ball','cat','dog','appi','ajjji']\n",
    "b=list (map(lambda x:x.upper(),a))\n",
    "b"
   ]
  },
  {
   "cell_type": "code",
   "execution_count": 32,
   "id": "f8911f8e",
   "metadata": {},
   "outputs": [
    {
     "data": {
      "text/plain": [
       "[1, 4, 9, 16, 25, 36, 49, 64, 81]"
      ]
     },
     "execution_count": 32,
     "metadata": {},
     "output_type": "execute_result"
    }
   ],
   "source": [
    "a=[1,2,3,4,5,6,7,8,9]\n",
    "b=list(map(lambda x:x**2,a))\n",
    "b"
   ]
  },
  {
   "cell_type": "code",
   "execution_count": 1,
   "id": "cd97878c",
   "metadata": {},
   "outputs": [
    {
     "name": "stdout",
     "output_type": "stream",
     "text": [
      "[0, 1, 2, 3, 4, 5, 6, 7, 8, 9, 10, 11, 12, 13, 14, 15, 16, 17, 18, 19]\n"
     ]
    }
   ],
   "source": [
    "a=[ i for i in range(20)]\n",
    "print(a)"
   ]
  },
  {
   "cell_type": "code",
   "execution_count": 2,
   "id": "446dd687",
   "metadata": {},
   "outputs": [
    {
     "name": "stdout",
     "output_type": "stream",
     "text": [
      "enter value=12\n",
      "enter value=443\n",
      "enter value=64\n",
      "enter value=23\n",
      "enter value=23\n",
      "[12, 443, 64, 23, 23]\n"
     ]
    }
   ],
   "source": [
    "a=[int(input(\"enter value=\"))for i in range(5)]\n",
    "print(a)"
   ]
  },
  {
   "cell_type": "markdown",
   "id": "65d965ff",
   "metadata": {},
   "source": [
    "a={input(\"enter name=\"):int(input(\"enter phone=\"))for i in range (2)}\n"
   ]
  },
  {
   "cell_type": "code",
   "execution_count": 3,
   "id": "a150c4f7",
   "metadata": {},
   "outputs": [
    {
     "name": "stdout",
     "output_type": "stream",
     "text": [
      "enter name=maya\n",
      "enter phone=2345\n",
      "enter name=maya\n",
      "enter phone=23\n",
      "{'maya': 23}\n"
     ]
    }
   ],
   "source": [
    "a={input(\"enter name=\"):int(input(\"enter phone=\"))for i in range (2)}\n",
    "print(a)"
   ]
  },
  {
   "cell_type": "code",
   "execution_count": null,
   "id": "ce5659d6",
   "metadata": {},
   "outputs": [],
   "source": []
  }
 ],
 "metadata": {
  "kernelspec": {
   "display_name": "Python 3 (ipykernel)",
   "language": "python",
   "name": "python3"
  },
  "language_info": {
   "codemirror_mode": {
    "name": "ipython",
    "version": 3
   },
   "file_extension": ".py",
   "mimetype": "text/x-python",
   "name": "python",
   "nbconvert_exporter": "python",
   "pygments_lexer": "ipython3",
   "version": "3.11.5"
  }
 },
 "nbformat": 4,
 "nbformat_minor": 5
}
