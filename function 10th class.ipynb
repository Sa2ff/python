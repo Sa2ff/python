{
 "cells": [
  {
   "cell_type": "code",
   "execution_count": null,
   "id": "61abef82",
   "metadata": {},
   "outputs": [],
   "source": [
    "#function\n",
    "#predefine function\n",
    "#print() type() int() float() str() list() tuple() dict() set()\n",
    "#user define function\n"
   ]
  },
  {
   "cell_type": "code",
   "execution_count": null,
   "id": "eab09ea1",
   "metadata": {},
   "outputs": [],
   "source": [
    "#def <function_name>():\n",
    "#<operation>\n",
    "#function_name()\n"
   ]
  },
  {
   "cell_type": "code",
   "execution_count": 2,
   "id": "f3400146",
   "metadata": {},
   "outputs": [
    {
     "name": "stdout",
     "output_type": "stream",
     "text": [
      "hello k cha \n"
     ]
    }
   ],
   "source": [
    "def hello():\n",
    "    print('hello k cha ')\n",
    "hello()"
   ]
  },
  {
   "cell_type": "code",
   "execution_count": 1,
   "id": "62168e6f",
   "metadata": {
    "scrolled": true
   },
   "outputs": [
    {
     "name": "stdout",
     "output_type": "stream",
     "text": [
      "enter l=23\n",
      "enter b=44\n",
      "enter h=55\n",
      "55660\n"
     ]
    }
   ],
   "source": [
    "def cal():\n",
    "    l=int(input(\"enter l=\"))#local variable\n",
    "    b=int(input(\"enter b=\"))#local variable\n",
    "    h=int(input(\"enter h=\"))#local variable\n",
    "    v=l*b*h\n",
    "    print(v)\n",
    "cal()"
   ]
  },
  {
   "cell_type": "code",
   "execution_count": null,
   "id": "cffe7fb0",
   "metadata": {},
   "outputs": [],
   "source": []
  },
  {
   "cell_type": "code",
   "execution_count": null,
   "id": "50787d31",
   "metadata": {},
   "outputs": [],
   "source": []
  },
  {
   "cell_type": "code",
   "execution_count": null,
   "id": "48236f48",
   "metadata": {},
   "outputs": [],
   "source": []
  },
  {
   "cell_type": "code",
   "execution_count": 8,
   "id": "6a5d3de6",
   "metadata": {},
   "outputs": [
    {
     "name": "stdout",
     "output_type": "stream",
     "text": [
      "enter l=34\n",
      "enter b=55\n",
      "enter h=776\n",
      "1451120\n"
     ]
    }
   ],
   "source": [
    "l=int(input(\"enter l=\"))#global variable\n",
    "b=int(input(\"enter b=\"))#global variable\n",
    "h=int(input(\"enter h=\"))#global variable\n",
    "def cal():\n",
    "    v=l*b*h\n",
    "    print(v)\n",
    "cal()"
   ]
  },
  {
   "cell_type": "code",
   "execution_count": null,
   "id": "a788ffd8",
   "metadata": {},
   "outputs": [],
   "source": [
    "#function without argument and no return type\n",
    "#function with argument and return type \n",
    "#function with argument and no return type \n",
    "#function without argument and return type"
   ]
  },
  {
   "cell_type": "markdown",
   "id": "2ed2c845",
   "metadata": {},
   "source": []
  },
  {
   "cell_type": "code",
   "execution_count": 14,
   "id": "5bcf157e",
   "metadata": {},
   "outputs": [
    {
     "name": "stdout",
     "output_type": "stream",
     "text": [
      "enter name=maya\n",
      "enter add=ktm\n",
      "enter age=23\n",
      "hello world I am maya. I am fromktm. I am 23\n"
     ]
    }
   ],
   "source": [
    "#function without argument and no return type\n",
    "\n",
    "def info(x,y,z):  #name age add >parameter\n",
    "    print(f\"hello world I am {x}. I am from{y}. I am {z}\")\n",
    "\n",
    "name=input('enter name=')\n",
    "add=input('enter add=')\n",
    "age=int(input('enter age='))\n",
    "\n",
    "\n",
    "info(name,add,age)     #name age add >agrument\n"
   ]
  },
  {
   "cell_type": "code",
   "execution_count": 19,
   "id": "ff8412f7",
   "metadata": {},
   "outputs": [
    {
     "name": "stdout",
     "output_type": "stream",
     "text": [
      "c\n",
      "java\n",
      "mern\n",
      "c++\n",
      "python\n"
     ]
    }
   ],
   "source": [
    "#function with argument and no return type \n",
    "def language(lan='python'):\n",
    "    print(lan)\n",
    "    \n",
    "language('c')\n",
    "language ('java')\n",
    "language('mern')\n",
    "language('c++')\n",
    "language()"
   ]
  },
  {
   "cell_type": "code",
   "execution_count": null,
   "id": "13f8883d",
   "metadata": {},
   "outputs": [],
   "source": [
    "#return type function\n"
   ]
  },
  {
   "cell_type": "code",
   "execution_count": 20,
   "id": "d0f4a44e",
   "metadata": {},
   "outputs": [
    {
     "name": "stdout",
     "output_type": "stream",
     "text": [
      "hello world\n"
     ]
    }
   ],
   "source": [
    "def hello():\n",
    "    x='hello world'\n",
    "    return x\n",
    "print(hello())"
   ]
  },
  {
   "cell_type": "code",
   "execution_count": 23,
   "id": "7393b6f0",
   "metadata": {},
   "outputs": [
    {
     "name": "stdout",
     "output_type": "stream",
     "text": [
      "110\n",
      "220\n"
     ]
    }
   ],
   "source": [
    "\n",
    "#function without argument and return type\n",
    "def area():\n",
    "    l=22\n",
    "    b=5\n",
    "    a=l*b\n",
    "    return a\n",
    "ar=area()\n",
    "print(ar)\n",
    "h=2\n",
    "v=ar*h\n",
    "print(v)"
   ]
  },
  {
   "cell_type": "code",
   "execution_count": 31,
   "id": "cbf7e4db",
   "metadata": {},
   "outputs": [
    {
     "name": "stdout",
     "output_type": "stream",
     "text": [
      "area= 408\n",
      "volume 22848\n"
     ]
    }
   ],
   "source": [
    "#function with argument and return type \n",
    "def cal(l,b,h):\n",
    "    a=l*b\n",
    "    v=a*h\n",
    "    return a,v\n",
    "z=cal(12,34,56)\n",
    "z\n",
    "area,volume=z\n",
    "print(\"area=\",area)\n",
    "print(\"volume\",volume)"
   ]
  },
  {
   "cell_type": "code",
   "execution_count": null,
   "id": "b61f4f37",
   "metadata": {},
   "outputs": [],
   "source": []
  },
  {
   "cell_type": "code",
   "execution_count": null,
   "id": "664b68d6",
   "metadata": {},
   "outputs": [],
   "source": []
  }
 ],
 "metadata": {
  "kernelspec": {
   "display_name": "Python 3 (ipykernel)",
   "language": "python",
   "name": "python3"
  },
  "language_info": {
   "codemirror_mode": {
    "name": "ipython",
    "version": 3
   },
   "file_extension": ".py",
   "mimetype": "text/x-python",
   "name": "python",
   "nbconvert_exporter": "python",
   "pygments_lexer": "ipython3",
   "version": "3.11.5"
  }
 },
 "nbformat": 4,
 "nbformat_minor": 5
}
