{
 "cells": [
  {
   "cell_type": "code",
   "execution_count": 6,
   "id": "d577382c",
   "metadata": {},
   "outputs": [
    {
     "name": "stdout",
     "output_type": "stream",
     "text": [
      "True\n",
      "True\n"
     ]
    }
   ],
   "source": [
    "#>< >= <= == !=\n",
    "a=10\n",
    "b=2\n",
    "print(a>b)\n",
    "print(a!=b)"
   ]
  },
  {
   "cell_type": "code",
   "execution_count": 5,
   "id": "f78ae081",
   "metadata": {},
   "outputs": [
    {
     "name": "stdout",
     "output_type": "stream",
     "text": [
      "False\n"
     ]
    }
   ],
   "source": [
    "a=10\n",
    "b=2\n",
    "print(a==b)"
   ]
  },
  {
   "cell_type": "code",
   "execution_count": 8,
   "id": "23aafda3",
   "metadata": {},
   "outputs": [
    {
     "name": "stdout",
     "output_type": "stream",
     "text": [
      "True\n"
     ]
    }
   ],
   "source": [
    "a=10\n",
    "print(a%2==0)"
   ]
  },
  {
   "cell_type": "code",
   "execution_count": 9,
   "id": "227921f4",
   "metadata": {},
   "outputs": [],
   "source": [
    "#if<condition>;\n",
    "# <operation>\n",
    "#elif<condition>\n",
    "#<operation>\n",
    "#else;\n",
    "#<peration>"
   ]
  },
  {
   "cell_type": "code",
   "execution_count": 12,
   "id": "dd7cbe3b",
   "metadata": {},
   "outputs": [
    {
     "name": "stdout",
     "output_type": "stream",
     "text": [
      "enter a=11\n",
      "a is odd\n"
     ]
    }
   ],
   "source": [
    "a=int(input(\"enter a=\"))\n",
    "if a%2==0:\n",
    "    print(\"a is even \")\n",
    "else:\n",
    "    print(\"a is odd\")\n",
    "    "
   ]
  },
  {
   "cell_type": "code",
   "execution_count": 11,
   "id": "3a62c434",
   "metadata": {},
   "outputs": [
    {
     "name": "stdout",
     "output_type": "stream",
     "text": [
      "enter a=10 \n",
      "enter b=20 \n",
      "b is greater \n"
     ]
    }
   ],
   "source": [
    "a=int(input(\"enter a=\"))\n",
    "b=int(input(\"enter b=\"))\n",
    "if(a>b):\n",
    "    print(\"a is greater\")\n",
    "elif(a<b):\n",
    "    print(\"b is greater \")\n",
    "else:\n",
    "    print(\"both are equal\")"
   ]
  },
  {
   "cell_type": "code",
   "execution_count": 23,
   "id": "0c79101e",
   "metadata": {},
   "outputs": [
    {
     "name": "stdout",
     "output_type": "stream",
     "text": [
      "b is greater\n"
     ]
    }
   ],
   "source": [
    "a=10\n",
    "b=20\n",
    "if(a<b):\n",
    "    print(\"b is greater\")\n",
    "elif(a>b):\n",
    "    print(\"a is greater\")\n",
    "else:\n",
    "    print(\"both are  eaqual\")\n"
   ]
  },
  {
   "cell_type": "code",
   "execution_count": 3,
   "id": "838f2023",
   "metadata": {},
   "outputs": [
    {
     "name": "stdout",
     "output_type": "stream",
     "text": [
      "enter a=66\n",
      "enter b=77\n",
      "b is greater\n"
     ]
    }
   ],
   "source": [
    "a=int(input(\"enter a=\"))\n",
    "b=int(input(\"enter b=\"))\n",
    "if(a<=b):\n",
    "    print(\"b is greater\")\n",
    "elif(a>=b):\n",
    "    print(\"a is greater\")\n",
    "else:\n",
    "    print(\"both are not equal\")\n",
    "    print(\"both are equal\")"
   ]
  },
  {
   "cell_type": "code",
   "execution_count": null,
   "id": "65cc2673",
   "metadata": {},
   "outputs": [],
   "source": [
    "a=int(input(\"enter a=\"))\n",
    "b=int(input(\"enter b=\"))\n",
    "print(a>b)\n",
    "print(a!=b)\n",
    "print(a<b)\n",
    "print(a==b)\n"
   ]
  },
  {
   "cell_type": "markdown",
   "id": "ddc8f134",
   "metadata": {},
   "source": []
  }
 ],
 "metadata": {
  "kernelspec": {
   "display_name": "Python 3 (ipykernel)",
   "language": "python",
   "name": "python3"
  },
  "language_info": {
   "codemirror_mode": {
    "name": "ipython",
    "version": 3
   },
   "file_extension": ".py",
   "mimetype": "text/x-python",
   "name": "python",
   "nbconvert_exporter": "python",
   "pygments_lexer": "ipython3",
   "version": "3.11.5"
  }
 },
 "nbformat": 4,
 "nbformat_minor": 5
}
