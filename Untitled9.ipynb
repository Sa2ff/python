{
 "cells": [
  {
   "cell_type": "code",
   "execution_count": null,
   "id": "6aed468c",
   "metadata": {},
   "outputs": [],
   "source": [
    "#dict \n",
    "#indexing\n",
    "#ordered\n",
    "#multiple and duplicate data\n",
    "# mutable\n"
   ]
  },
  {
   "cell_type": "code",
   "execution_count": null,
   "id": "7b7eef67",
   "metadata": {},
   "outputs": [],
   "source": [
    "# d={<key>:<value>, <key>:<value>}\n"
   ]
  },
  {
   "cell_type": "code",
   "execution_count": 10,
   "id": "18131d80",
   "metadata": {},
   "outputs": [
    {
     "name": "stdout",
     "output_type": "stream",
     "text": [
      "{'a': 'apple', 'b': 'ball', 'c': 'cat'}\n",
      "<class 'dict'>\n"
     ]
    }
   ],
   "source": [
    "d={'a':'apple','b':'ball','c':'cat'}\n",
    "print(d)\n",
    "print(type(d))\n"
   ]
  },
  {
   "cell_type": "code",
   "execution_count": 5,
   "id": "a0505492",
   "metadata": {},
   "outputs": [
    {
     "name": "stdout",
     "output_type": "stream",
     "text": [
      "apple\n"
     ]
    }
   ],
   "source": [
    "d={'a':'apple','b':'ball','c':'cat'}\n",
    "print(d['a'])"
   ]
  },
  {
   "cell_type": "code",
   "execution_count": 1,
   "id": "ef62173b",
   "metadata": {},
   "outputs": [],
   "source": [
    "#update\n",
    "d={'a':'apple','b':'ball','c':'cat'}\n",
    "d['a']='aunty '"
   ]
  },
  {
   "cell_type": "code",
   "execution_count": 2,
   "id": "6091b6bf",
   "metadata": {},
   "outputs": [
    {
     "data": {
      "text/plain": [
       "{'a': 'apple', 'b': 'ball'}"
      ]
     },
     "execution_count": 2,
     "metadata": {},
     "output_type": "execute_result"
    }
   ],
   "source": [
    "#d=ditch\n",
    "d={}\n",
    "d['a']='apple'\n",
    "d['b']='ball'\n",
    "d"
   ]
  },
  {
   "cell_type": "code",
   "execution_count": 5,
   "id": "d24cab9c",
   "metadata": {},
   "outputs": [
    {
     "name": "stdout",
     "output_type": "stream",
     "text": [
      "enter n=1\n",
      "enter name=maya\n",
      "enter phone=6543\n",
      "{'6543': 'maya'}\n"
     ]
    }
   ],
   "source": [
    "d={}\n",
    "n=int(input(\"enter n=\"))\n",
    "for i in range(n):\n",
    "    name=input(\"enter name=\")\n",
    "    phone=input(\"enter phone=\")\n",
    "    d[phone]=name\n",
    "    print(d)"
   ]
  },
  {
   "cell_type": "code",
   "execution_count": 7,
   "id": "412c3c3e",
   "metadata": {},
   "outputs": [
    {
     "name": "stdout",
     "output_type": "stream",
     "text": [
      "ram\n",
      "shya\n"
     ]
    }
   ],
   "source": [
    "d={'098765':'ram','456543':'shya'}\n",
    "for i in d.values():\n",
    "    print(i)"
   ]
  },
  {
   "cell_type": "code",
   "execution_count": 8,
   "id": "ade7989f",
   "metadata": {},
   "outputs": [
    {
     "name": "stdout",
     "output_type": "stream",
     "text": [
      "('098765', 'ram')\n",
      "('456543', 'shya')\n"
     ]
    }
   ],
   "source": [
    "d={'098765':'ram','456543':'shya'}\n",
    "for i in d.items():\n",
    "    print(i)"
   ]
  },
  {
   "cell_type": "code",
   "execution_count": 9,
   "id": "9705f784",
   "metadata": {},
   "outputs": [
    {
     "data": {
      "text/plain": [
       "{'987654347': 'ram', '4567654': 'shyam'}"
      ]
     },
     "execution_count": 9,
     "metadata": {},
     "output_type": "execute_result"
    }
   ],
   "source": [
    "t=(('987654347','ram'),('4567654','shyam'))\n",
    "d=dict(t)\n",
    "d"
   ]
  },
  {
   "cell_type": "code",
   "execution_count": 11,
   "id": "bec8982d",
   "metadata": {},
   "outputs": [],
   "source": [
    "#del\n",
    "#pop"
   ]
  },
  {
   "cell_type": "code",
   "execution_count": 14,
   "id": "64e02d82",
   "metadata": {},
   "outputs": [
    {
     "data": {
      "text/plain": [
       "{'456543': 'shya'}"
      ]
     },
     "execution_count": 14,
     "metadata": {},
     "output_type": "execute_result"
    }
   ],
   "source": [
    "d={'098765':'ram','456543':'shya'}\n",
    "del d['098765']\n",
    "d"
   ]
  },
  {
   "cell_type": "code",
   "execution_count": 15,
   "id": "e64df801",
   "metadata": {},
   "outputs": [
    {
     "ename": "SyntaxError",
     "evalue": "invalid syntax (4224025533.py, line 2)",
     "output_type": "error",
     "traceback": [
      "\u001b[1;36m  Cell \u001b[1;32mIn[15], line 2\u001b[1;36m\u001b[0m\n\u001b[1;33m    pop d['ram']\u001b[0m\n\u001b[1;37m        ^\u001b[0m\n\u001b[1;31mSyntaxError\u001b[0m\u001b[1;31m:\u001b[0m invalid syntax\n"
     ]
    }
   ],
   "source": [
    "#no concatination\n"
   ]
  },
  {
   "cell_type": "code",
   "execution_count": 16,
   "id": "1f048e72",
   "metadata": {},
   "outputs": [
    {
     "data": {
      "text/plain": [
       "{'098765': 'ram', '456543': 'shya', 1: 1, 2: 4, 3: 9}"
      ]
     },
     "execution_count": 16,
     "metadata": {},
     "output_type": "execute_result"
    }
   ],
   "source": [
    "d={'098765':'ram','456543':'shya'}\n",
    "b={1:1,2:4,3:9}\n",
    "d.update(b)\n",
    "d"
   ]
  },
  {
   "cell_type": "code",
   "execution_count": null,
   "id": "9178b676",
   "metadata": {},
   "outputs": [],
   "source": [
    "#list inside dict\n"
   ]
  },
  {
   "cell_type": "code",
   "execution_count": 19,
   "id": "eccb9618",
   "metadata": {},
   "outputs": [
    {
     "ename": "SyntaxError",
     "evalue": "invalid syntax (2523601518.py, line 1)",
     "output_type": "error",
     "traceback": [
      "\u001b[1;36m  Cell \u001b[1;32mIn[19], line 1\u001b[1;36m\u001b[0m\n\u001b[1;33m    d={['namae':'ram','shyam','hari'],\u001b[0m\n\u001b[1;37m               ^\u001b[0m\n\u001b[1;31mSyntaxError\u001b[0m\u001b[1;31m:\u001b[0m invalid syntax\n"
     ]
    }
   ],
   "source": [
    "d={['namae':'ram','shyam','hari'],\n",
    "    'age':[34,35,34,22],\n",
    "    'add':['ktm','pokh','butw','dhang']}\n",
    "d\n",
    "        "
   ]
  },
  {
   "cell_type": "code",
   "execution_count": null,
   "id": "f34440d0",
   "metadata": {},
   "outputs": [],
   "source": [
    "d={'name':[],'age':[],'add':[]}\n",
    "n=int(input(\"enter n=\"))\n",
    "for i in range(n):\n",
    "    name=input(\"enter name=\")\n",
    "    age=input(\"enter age=\")\n",
    "    add=input(\"enter add=\")\n",
    "    d['name'].append(name)\n",
    "    d['age'].append(age)\n",
    "    d['add'].append(add)\n",
    "    print(d)"
   ]
  },
  {
   "cell_type": "code",
   "execution_count": null,
   "id": "45177a09",
   "metadata": {},
   "outputs": [],
   "source": [
    "#dict insdie list\n",
    "l=[]\n",
    "n=int (input(\"enter n=\"))\n",
    "for i in range(n):\n",
    "    name=input(\"enter name=\")\n",
    "    age=input(\"enter age=\")\n",
    "    add=input(\"enter add=\")\n",
    "    d={'name':name,'age':age,'add':add}\n",
    "    l.append(d)\n",
    "    l\n",
    "    \n",
    "\n"
   ]
  },
  {
   "cell_type": "code",
   "execution_count": null,
   "id": "838a46c7",
   "metadata": {},
   "outputs": [],
   "source": []
  },
  {
   "cell_type": "code",
   "execution_count": null,
   "id": "89969134",
   "metadata": {},
   "outputs": [],
   "source": [
    "#dict inside dict\n"
   ]
  },
  {
   "cell_type": "code",
   "execution_count": null,
   "id": "219334f3",
   "metadata": {},
   "outputs": [],
   "source": [
    "d={1:{'098765': 'ram', '456543': 'shya'},\n",
    "   2:{'23211':'shyam','322212':'sdd'}}\n"
   ]
  },
  {
   "cell_type": "code",
   "execution_count": null,
   "id": "509a12a4",
   "metadata": {},
   "outputs": [],
   "source": [
    "d=[]\n",
    "n=int (input(\"enter n=\"))\n",
    "for i in range(1,n+1):\n",
    "    name=input(\"enter name=\")\n",
    "    age=input(\"enter age=\")\n",
    "    add=input(\"enter add=\")\n",
    "    dd={'name':name,'age':age,'add':add}\n",
    "    d[i]=dd\n",
    "print(d)\n",
    "    \n"
   ]
  },
  {
   "cell_type": "markdown",
   "id": "78c5cb75",
   "metadata": {},
   "source": [
    "    "
   ]
  },
  {
   "cell_type": "code",
   "execution_count": null,
   "id": "eb9a62c8",
   "metadata": {},
   "outputs": [],
   "source": []
  }
 ],
 "metadata": {
  "kernelspec": {
   "display_name": "Python 3 (ipykernel)",
   "language": "python",
   "name": "python3"
  },
  "language_info": {
   "codemirror_mode": {
    "name": "ipython",
    "version": 3
   },
   "file_extension": ".py",
   "mimetype": "text/x-python",
   "name": "python",
   "nbconvert_exporter": "python",
   "pygments_lexer": "ipython3",
   "version": "3.11.5"
  }
 },
 "nbformat": 4,
 "nbformat_minor": 5
}
