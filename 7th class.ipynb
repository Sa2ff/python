{
 "cells": [
  {
   "cell_type": "code",
   "execution_count": null,
   "id": "1d2e2993",
   "metadata": {},
   "outputs": [],
   "source": [
    "#string "
   ]
  },
  {
   "cell_type": "code",
   "execution_count": 5,
   "id": "5f4f4550",
   "metadata": {},
   "outputs": [
    {
     "name": "stdout",
     "output_type": "stream",
     "text": [
      "hello world hello world hello world\n",
      "<class 'str'>\n"
     ]
    },
    {
     "data": {
      "text/plain": [
       "(None, str, str)"
      ]
     },
     "execution_count": 5,
     "metadata": {},
     "output_type": "execute_result"
    }
   ],
   "source": [
    "a='hello world'\n",
    "b=\"hello world\"\n",
    "c='''hello world'''\n",
    "print(a,b,c)\n",
    "print(type(a)),(type(b)),(type(c))"
   ]
  },
  {
   "cell_type": "code",
   "execution_count": 9,
   "id": "bdc35a07",
   "metadata": {},
   "outputs": [
    {
     "name": "stdout",
     "output_type": "stream",
     "text": [
      "h\n",
      "hello\n",
      "hlowr\n"
     ]
    }
   ],
   "source": [
    "#index\n",
    "a=\"hello world\"\n",
    "print(a[0])\n",
    "print(a[0:5])\n",
    "print(a[0:10:2])"
   ]
  },
  {
   "cell_type": "code",
   "execution_count": 10,
   "id": "aa0e4797",
   "metadata": {},
   "outputs": [
    {
     "name": "stdout",
     "output_type": "stream",
     "text": [
      "hello world\n",
      "hello\n"
     ]
    }
   ],
   "source": [
    "a=\"hello world\"\n",
    "b=a[0:5]\n",
    "print(a)\n",
    "print(b)"
   ]
  },
  {
   "cell_type": "code",
   "execution_count": 4,
   "id": "1c6ba0df",
   "metadata": {},
   "outputs": [
    {
     "name": "stdout",
     "output_type": "stream",
     "text": [
      "hello world i am rami am fromktmi am34\n"
     ]
    }
   ],
   "source": [
    "name =\"ram\"\n",
    "age=34\n",
    "add=\"ktm\"\n",
    "info=\"hello world i am \"+name+\"i am from\"+add+\"i am\"+str(age)\n",
    "print(info)\n"
   ]
  },
  {
   "cell_type": "code",
   "execution_count": 3,
   "id": "9fa588a6",
   "metadata": {},
   "outputs": [
    {
     "data": {
      "text/plain": [
       "'hello worldram.i am fromktm, i am 34'"
      ]
     },
     "execution_count": 3,
     "metadata": {},
     "output_type": "execute_result"
    }
   ],
   "source": [
    "#string formatting\n",
    "name =\"ram\"\n",
    "age=34\n",
    "add=\"ktm\"\n",
    "info=f\"hello world{name}.i am from{add}, i am {age}\"\n",
    "print(info)"
   ]
  },
  {
   "cell_type": "code",
   "execution_count": 2,
   "id": "0c65dbb8",
   "metadata": {},
   "outputs": [
    {
     "name": "stdout",
     "output_type": "stream",
     "text": [
      "enter n=1\n",
      "enter name=ram\n",
      "enter age=22\n",
      "enter add=ktm\n",
      "ram22ktm\n",
      "\n"
     ]
    }
   ],
   "source": [
    "s=''\n",
    "n=int(input(\"enter n=\"))\n",
    "for i in range(n):\n",
    "    name=input(\"enter name=\")\n",
    "    age=input(\"enter age=\")\n",
    "    add=input(\"enter add=\")\n",
    "    info=f\"{name}{age}{add}\\n\"\n",
    "    s=s+info\n",
    "    print(s)"
   ]
  },
  {
   "cell_type": "code",
   "execution_count": 6,
   "id": "b76411eb",
   "metadata": {},
   "outputs": [
    {
     "name": "stdout",
     "output_type": "stream",
     "text": [
      "dlrow olle\n"
     ]
    },
    {
     "data": {
      "text/plain": [
       "'dlrow olleh'"
      ]
     },
     "execution_count": 6,
     "metadata": {},
     "output_type": "execute_result"
    }
   ],
   "source": [
    "a=\"hello world\"\n",
    "print(a[-1:-11:-1])\n",
    "a[::-1]"
   ]
  },
  {
   "cell_type": "code",
   "execution_count": 7,
   "id": "659f445f",
   "metadata": {},
   "outputs": [
    {
     "data": {
      "text/plain": [
       "'hello world'"
      ]
     },
     "execution_count": 7,
     "metadata": {},
     "output_type": "execute_result"
    }
   ],
   "source": [
    "a[:]"
   ]
  },
  {
   "cell_type": "code",
   "execution_count": 15,
   "id": "34644edb",
   "metadata": {},
   "outputs": [
    {
     "name": "stdout",
     "output_type": "stream",
     "text": [
      "name=hari\n",
      "yes\n",
      "1\n"
     ]
    }
   ],
   "source": [
    "#search in string\n",
    "a=\"ram shyam hari sita\"\n",
    "name=input(\"name=\")\n",
    "if \"ram \" in a:\n",
    "    print(\"yes\")\n",
    "    print(a.count(name))\n",
    "else:\n",
    "    print(\"no\")"
   ]
  },
  {
   "cell_type": "code",
   "execution_count": 18,
   "id": "d5ce1506",
   "metadata": {},
   "outputs": [
    {
     "name": "stdout",
     "output_type": "stream",
     "text": [
      "ram shyam hari sita\n",
      "RAM SHYAM HARI SITA\n",
      "ram shyam hari sita\n"
     ]
    }
   ],
   "source": [
    "#string is unchangedable \n",
    "a=\"ram shyam hari sita\"\n",
    "print(a.lower())\n",
    "print(a.upper())\n",
    "print(a)"
   ]
  },
  {
   "cell_type": "code",
   "execution_count": 22,
   "id": "0526e0bf",
   "metadata": {},
   "outputs": [
    {
     "name": "stdout",
     "output_type": "stream",
     "text": [
      "name=sita\n",
      "yes\n",
      "1\n"
     ]
    }
   ],
   "source": [
    "a=\"RAM shyam hari SITA\".lower()\n",
    "name=input(\"name=\").lower()\n",
    "if \"ram \" in a:\n",
    "    print(\"yes\")\n",
    "    print(a.count(name))\n",
    "else:\n",
    "    print(\"no\")"
   ]
  },
  {
   "cell_type": "code",
   "execution_count": 1,
   "id": "9a514257",
   "metadata": {},
   "outputs": [
    {
     "name": "stdout",
     "output_type": "stream",
     "text": [
      "hello world"
     ]
    }
   ],
   "source": [
    "a=\"hello world\"\n",
    "l=len(a)\n",
    "i=0\n",
    "while i<l:\n",
    "    print(a[i],end=\"\")\n",
    "    i=i+1"
   ]
  },
  {
   "cell_type": "code",
   "execution_count": 3,
   "id": "b8933f58",
   "metadata": {},
   "outputs": [
    {
     "name": "stdout",
     "output_type": "stream",
     "text": [
      "RAM shyam hari SITA\n"
     ]
    }
   ],
   "source": [
    "a=\"RAM shyam hari SITA\"\n",
    "a=a.replace(\"ram\",\"sita\")\n",
    "print(a)"
   ]
  },
  {
   "cell_type": "code",
   "execution_count": 4,
   "id": "8b16a7c2",
   "metadata": {},
   "outputs": [
    {
     "data": {
      "text/plain": [
       "['RAM', 'shyam', 'hari', 'SITA']"
      ]
     },
     "execution_count": 4,
     "metadata": {},
     "output_type": "execute_result"
    }
   ],
   "source": [
    "a.split()"
   ]
  },
  {
   "cell_type": "code",
   "execution_count": 1,
   "id": "43dff194",
   "metadata": {},
   "outputs": [
    {
     "data": {
      "text/plain": [
       "['RAM ', 'shyam ', 'hari ', 'SITA']"
      ]
     },
     "execution_count": 1,
     "metadata": {},
     "output_type": "execute_result"
    }
   ],
   "source": [
    "a=\"RAM _shyam _hari _SITA\"\n",
    "a.split(\"_\")"
   ]
  },
  {
   "cell_type": "code",
   "execution_count": null,
   "id": "d2a6b173",
   "metadata": {},
   "outputs": [],
   "source": []
  }
 ],
 "metadata": {
  "kernelspec": {
   "display_name": "Python 3 (ipykernel)",
   "language": "python",
   "name": "python3"
  },
  "language_info": {
   "codemirror_mode": {
    "name": "ipython",
    "version": 3
   },
   "file_extension": ".py",
   "mimetype": "text/x-python",
   "name": "python",
   "nbconvert_exporter": "python",
   "pygments_lexer": "ipython3",
   "version": "3.11.5"
  }
 },
 "nbformat": 4,
 "nbformat_minor": 5
}
