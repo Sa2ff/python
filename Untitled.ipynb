{
 "cells": [
  {
   "cell_type": "code",
   "execution_count": 7,
   "id": "de88ce40",
   "metadata": {},
   "outputs": [
    {
     "name": "stdout",
     "output_type": "stream",
     "text": [
      "10 10.1 hello world\n"
     ]
    }
   ],
   "source": [
    "a=10\n",
    "b=10.1\n",
    "c='hello world' \n",
    "print(a ,b ,c )"
   ]
  },
  {
   "cell_type": "code",
   "execution_count": 2,
   "id": "f12ffaee",
   "metadata": {},
   "outputs": [
    {
     "name": "stdout",
     "output_type": "stream",
     "text": [
      "10.4\n"
     ]
    }
   ],
   "source": [
    "a=10.4\n",
    "print(a)\n"
   ]
  },
  {
   "cell_type": "code",
   "execution_count": 4,
   "id": "e70918fa",
   "metadata": {},
   "outputs": [
    {
     "name": "stdout",
     "output_type": "stream",
     "text": [
      "appleball\n"
     ]
    }
   ],
   "source": [
    "a='apple'\n",
    "b='ball'\n",
    "c=a+b\n",
    "print(c)\n"
   ]
  },
  {
   "cell_type": "code",
   "execution_count": 5,
   "id": "4a9c97ff",
   "metadata": {},
   "outputs": [
    {
     "name": "stdout",
     "output_type": "stream",
     "text": [
      "(1+2j)\n",
      "<class 'complex'>\n"
     ]
    }
   ],
   "source": [
    "a=1+2j\n",
    "print(a)\n",
    "print(type(a))\n"
   ]
  },
  {
   "cell_type": "code",
   "execution_count": 5,
   "id": "dd5234ff",
   "metadata": {},
   "outputs": [
    {
     "name": "stdout",
     "output_type": "stream",
     "text": [
      "1713713918624218496001865780736933974995033862946422784\n"
     ]
    }
   ],
   "source": [
    "a=44\n",
    "b=33\n",
    "c= a**b\n",
    "print(c)"
   ]
  },
  {
   "cell_type": "code",
   "execution_count": 2,
   "id": "bedae14b",
   "metadata": {},
   "outputs": [
    {
     "name": "stdout",
     "output_type": "stream",
     "text": [
      "1\n",
      "0\n"
     ]
    }
   ],
   "source": [
    "a = True\n",
    "b = False\n",
    "print (a + b)\n",
    "print (a * b)"
   ]
  },
  {
   "cell_type": "code",
   "execution_count": 11,
   "id": "ac6320aa",
   "metadata": {},
   "outputs": [
    {
     "name": "stdout",
     "output_type": "stream",
     "text": [
      "10\n",
      "10\n"
     ]
    }
   ],
   "source": [
    "#basic i/o\n",
    "a = input()\n",
    "print(a)\n"
   ]
  },
  {
   "cell_type": "code",
   "execution_count": 12,
   "id": "43253dac",
   "metadata": {},
   "outputs": [
    {
     "name": "stdout",
     "output_type": "stream",
     "text": [
      "enter a=22\n",
      "22\n"
     ]
    }
   ],
   "source": [
    "a= input(\"enter a=\")\n",
    "print (a)"
   ]
  },
  {
   "cell_type": "code",
   "execution_count": 13,
   "id": "51fd3e7c",
   "metadata": {},
   "outputs": [
    {
     "name": "stdout",
     "output_type": "stream",
     "text": [
      "484\n"
     ]
    }
   ],
   "source": [
    "a=22\n",
    "b=22\n",
    "c=a*b\n",
    "print(c)"
   ]
  },
  {
   "cell_type": "code",
   "execution_count": 8,
   "id": "5ee61b50",
   "metadata": {
    "scrolled": true
   },
   "outputs": [
    {
     "data": {
      "text/plain": [
       "'enter your name'"
      ]
     },
     "execution_count": 8,
     "metadata": {},
     "output_type": "execute_result"
    }
   ],
   "source": [
    "\n",
    "print = \"enter your name\"\n",
    "print"
   ]
  },
  {
   "cell_type": "code",
   "execution_count": 6,
   "id": "a5f43a47",
   "metadata": {},
   "outputs": [
    {
     "name": "stdout",
     "output_type": "stream",
     "text": [
      "hello world 10_please look at the side cornerhello world 10_please look at the side cornerhello world 10_please look at the side cornerhello world 10_please look at the side cornerhello world 10_please look at the side cornerhello world 10_please look at the side cornerhello world 10_please look at the side cornerhello world 10_please look at the side cornerhello world 10_please look at the side cornerhello world 10_please look at the side cornerhello world 10_please look at the side cornerhello world 10_please look at the side cornerhello world 10_please look at the side cornerhello world 10_please look at the side cornerhello world 10_please look at the side cornerhello world 10_please look at the side cornerhello world 10_please look at the side cornerhello world 10_please look at the side cornerhello world 10_please look at the side cornerhello world 10_please look at the side cornerhello world 10_please look at the side cornerhello world 10_please look at the side corner\n"
     ]
    }
   ],
   "source": [
    "a=\"hello world 10_please look at the side corner\"\n",
    "b= 22\n",
    "c=a*b\n",
    "print(c)"
   ]
  },
  {
   "cell_type": "code",
   "execution_count": 6,
   "id": "e4022525",
   "metadata": {},
   "outputs": [
    {
     "name": "stdout",
     "output_type": "stream",
     "text": [
      "<class 'int'>\n"
     ]
    }
   ],
   "source": [
    "#datatype conversion \n",
    "#int() str() float()\n",
    "a =\"10\"\n",
    "x=int(a)\n",
    "print(type(x))\n",
    "\n",
    "\n"
   ]
  },
  {
   "cell_type": "code",
   "execution_count": null,
   "id": "4b7356e1",
   "metadata": {},
   "outputs": [],
   "source": []
  },
  {
   "cell_type": "code",
   "execution_count": 2,
   "id": "a4420d5a",
   "metadata": {},
   "outputs": [
    {
     "name": "stdout",
     "output_type": "stream",
     "text": [
      "enter a =12\n",
      "<class 'str'>\n"
     ]
    }
   ],
   "source": [
    "a=input(\"enter a =\")\n",
    "print(type(a))"
   ]
  },
  {
   "cell_type": "code",
   "execution_count": 2,
   "id": "23ce1f99",
   "metadata": {},
   "outputs": [
    {
     "name": "stdout",
     "output_type": "stream",
     "text": [
      "enter p=7777\n",
      "enter t=88\n",
      "enter r=9\n",
      "61593.84\n"
     ]
    }
   ],
   "source": [
    "p=int(input(\"enter p=\"))\n",
    "t=float(input(\"enter t=\"))\n",
    "r=float(input(\"enter r=\"))\n",
    "i=p*t*r/100\n",
    "\n",
    "print(i)"
   ]
  },
  {
   "cell_type": "code",
   "execution_count": 4,
   "id": "8005adf3",
   "metadata": {},
   "outputs": [
    {
     "name": "stdout",
     "output_type": "stream",
     "text": [
      "enter physics =77\n",
      "enter chemistry=88\n",
      "enter math=99\n",
      "enter nepali=66\n",
      "enter english=88\n",
      "Total =  418.0\n",
      "Per =  83.6\n",
      "Grade =  A\n",
      "total = 418.0\n",
      "per= 83.6\n",
      "grade= A\n"
     ]
    }
   ],
   "source": [
    "physic=float(input (\"enter physics =\"))\n",
    "chemistry=float(input(\"enter chemistry=\"))\n",
    "math=float(input(\"enter math=\"))\n",
    "nepali=float(input(\"enter nepali=\"))\n",
    "english=float(input(\"enter english=\"))\n",
    "\n",
    "total=physic+chemistry+ math+nepali+english\n",
    "per = total/5\n",
    "if per >= 80:\n",
    "    grade = 'A'\n",
    "elif per >=60:\n",
    "    grade = 'B'\n",
    "elif per >= 45:\n",
    "    grade = 'C'\n",
    "else:\n",
    "    grade = 'F'\n",
    "\n",
    "print(\"Total = \",total)\n",
    "print(\"Per = \",per)\n",
    "print(\"Grade = \",grade)\n",
    "                   \n",
    "per=total/5\n",
    "                   \n",
    "print(\"total =\",total)\n",
    "print(\"per=\",per)\n",
    "print(\"grade=\",grade)\n",
    "                   \n",
    "\n"
   ]
  },
  {
   "cell_type": "code",
   "execution_count": 11,
   "id": "f10633f7",
   "metadata": {},
   "outputs": [
    {
     "name": "stdout",
     "output_type": "stream",
     "text": [
      "a=12\n",
      "<class 'str'>\n"
     ]
    }
   ],
   "source": [
    "a=(input(\"a=\"))\n",
    "print(type(a))"
   ]
  },
  {
   "cell_type": "code",
   "execution_count": 14,
   "id": "511c1753",
   "metadata": {},
   "outputs": [
    {
     "name": "stdout",
     "output_type": "stream",
     "text": [
      "enter physics =77\n",
      "enter chemistry=88\n",
      "enter math=66\n",
      "enter nepali=77\n",
      "enter english=88\n",
      "Total =  396.0\n",
      "Per =  79.2\n",
      "Grade =  A\n",
      "total = 396.0\n",
      "per= 79.2\n",
      "grade= A\n"
     ]
    }
   ],
   "source": [
    "physic=float(input (\"enter physics =\"))\n",
    "chemistry=float(input(\"enter chemistry=\"))\n",
    "math=float(input(\"enter math=\"))\n",
    "nepali=float(input(\"enter nepali=\"))\n",
    "english=float(input(\"enter english=\"))\n",
    "\n",
    "total=physic+chemistry+ math+nepali+english\n",
    "per = total/5\n",
    "if per <= 80:\n",
    "    grade = 'A'\n",
    "elif per <=60:\n",
    "    grade = 'B'\n",
    "elif per <= 45:\n",
    "    grade = 'C'\n",
    "else:\n",
    "    grade = 'F'\n",
    "\n",
    "print(\"Total = \",total)\n",
    "print(\"Per = \",per)\n",
    "print(\"Grade = \",grade)\n",
    "                   \n",
    "per=total/5\n",
    "                   \n",
    "print(\"total =\",total)\n",
    "print(\"per=\",per)\n",
    "print(\"grade=\",grade)\n",
    "                   "
   ]
  },
  {
   "cell_type": "code",
   "execution_count": 19,
   "id": "e2424d32",
   "metadata": {},
   "outputs": [
    {
     "name": "stdout",
     "output_type": "stream",
     "text": [
      "yes bot are engineer\n"
     ]
    }
   ],
   "source": [
    "c= \"sita is a doctor\"\n",
    "d=\"hari is a doctor\"\n",
    "if(\"both are engineer\"):\n",
    "    print(\"yes bot are engineer\")\n",
    "else:\n",
    "    print(\"both are not engineer\")"
   ]
  },
  {
   "cell_type": "code",
   "execution_count": null,
   "id": "bc6bb4a5",
   "metadata": {},
   "outputs": [],
   "source": [
    "\n"
   ]
  },
  {
   "cell_type": "code",
   "execution_count": null,
   "id": "6562cf14",
   "metadata": {},
   "outputs": [],
   "source": []
  },
  {
   "cell_type": "code",
   "execution_count": null,
   "id": "ac07c9ae",
   "metadata": {},
   "outputs": [],
   "source": []
  },
  {
   "cell_type": "code",
   "execution_count": null,
   "id": "d59bb8bb",
   "metadata": {},
   "outputs": [],
   "source": []
  }
 ],
 "metadata": {
  "kernelspec": {
   "display_name": "Python 3 (ipykernel)",
   "language": "python",
   "name": "python3"
  },
  "language_info": {
   "codemirror_mode": {
    "name": "ipython",
    "version": 3
   },
   "file_extension": ".py",
   "mimetype": "text/x-python",
   "name": "python",
   "nbconvert_exporter": "python",
   "pygments_lexer": "ipython3",
   "version": "3.11.5"
  }
 },
 "nbformat": 4,
 "nbformat_minor": 5
}
